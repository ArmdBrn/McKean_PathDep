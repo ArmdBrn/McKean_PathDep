{
  "cells": [
    {
      "cell_type": "markdown",
      "metadata": {
        "id": "0ozvnExGZpfh"
      },
      "source": [
        "# Density simulation of a path-dependent McKean-Vlasov SDE with linear interaction\n",
        "\n",
        "\n",
        "> This notebook implements the simulations described in Section 2.1.1 of\n",
        "  - [1] Bernou, A. and Liu, Y. (2024). Particle method for numerical simulation of the path-dependent McKean-Vlasov equation\n",
        "\n",
        "-------------------------------\n",
        "\n",
        "**Contents**\n",
        "\n",
        "* [1. Definition of the McKean-Vlasov equation, the particle system and the Euler scheme](#chapter1)\n",
        "\n",
        "* [2. Application: Simulation with fixed M](#chapter2)\n",
        "\n",
        "* [3. Application: Simulation with M depending on N](#chapter3)\n",
        "\n",
        "\n",
        "\n",
        "\n",
        "-------------------------------"
      ]
    },
    {
      "cell_type": "code",
      "execution_count": 1,
      "metadata": {
        "colab": {
          "base_uri": "https://localhost:8080/"
        },
        "id": "z-QB8CBdZpfl",
        "outputId": "4054f0b7-98b3-4140-8c79-87c3785d34e0"
      },
      "outputs": [
        {
          "output_type": "stream",
          "name": "stdout",
          "text": [
            "Mounted at /content/drive\n"
          ]
        }
      ],
      "source": [
        "import numpy as np\n",
        "import matplotlib.pyplot as plt\n",
        "from tqdm import tqdm\n",
        "import random\n",
        "from joblib import Parallel, delayed\n",
        "import time\n",
        "import shutil\n",
        "from functools import partialmethod\n",
        "\n",
        "import pandas as pd\n",
        "from scipy.stats import norm\n",
        "from sklearn.linear_model import LinearRegression\n",
        "\n",
        "from google.colab import drive\n",
        "drive.mount('/content/drive')"
      ]
    },
    {
      "cell_type": "markdown",
      "metadata": {
        "id": "2FW2Qj0ZZpfm"
      },
      "source": [
        "## I. Definition of the McKean-Vlasov equation, the particle system and the Euler scheme <a class=\"anchor\" id=\"chapter1\"></a>\n"
      ]
    },
    {
      "cell_type": "markdown",
      "metadata": {
        "id": "C1CLVQUyZpfm"
      },
      "source": [
        "We consider a stochastic process $(X_t)_{t\\in[0, T]}$ defined by the following McKean-Vlasov SDE with linear interaction\n",
        "\n",
        "$$dX_t = - \\frac{1}{t} \\int_0^t  \\int_{\\mathbb{R}}(X_t-x)\\mu_s(dx) \\, ds \\, dt+dB_t\\quad \\text{with}\\quad X_0\\sim \\mathcal{N}(3, \\frac{1}{2}),\\hspace{2cm}(1)$$\n",
        "\n",
        "where for every  $t\\in[0,T]$, $\\mu_t$ denotes the probability distribution of $X_t$.  This process $(X_t)_{t\\in[0, T]}$ is a stationary Ornstein-Uhlenbeck process, namely, for every $t\\in[0,T], \\; \\mu_t=\\mathcal{N}(3, \\frac{1}{2})$ (see [1, Proposition 2.1])."
      ]
    },
    {
      "cell_type": "markdown",
      "metadata": {
        "id": "0Oh_-xa2Zpfm"
      },
      "source": [
        "Let $N$ be the number of particles. The $N$-particle system $(X_t^{1}, ..., X_t^{N})_{t\\in[0,T]}$ corresponding to (1) is defined as follows :\n",
        "\n",
        "\n",
        "\\begin{equation}\n",
        "dX_t^{n}=- \\frac{1}{t} \\int_0^t \\frac{1}{N} \\sum_{i=1}^{N}\\big(X_t^{n}-X_s^{i}\\big) ds \\, dt+ B_t^{n}.\\hspace{2cm}(2),\n",
        "\\end{equation}\n",
        "where, for all $n \\in \\{1,\\dots,N\\}$, $(B^n_t)_{t \\ge 0}$ is a standard Brownian motion."
      ]
    },
    {
      "cell_type": "markdown",
      "metadata": {
        "id": "KUeVgs7RZpfn"
      },
      "source": [
        "Let $M$ denote the time discretization number for the Euler scheme. Set $h=\\frac{T}{M}$ and $t_m=m\\cdot h, 0\\leq m\\leq M$. Combining the particle system (2) and the Euler scheme, we obtain the following discrete particle system (see also [1, Definition 1.4]): for $1 \\le n \\le N$,\n",
        "\n",
        "\\begin{equation}\n",
        "X^n_{t_1} = X^n_0 + \\frac{h}{N} \\sum_{i=1}^N \\big(X^i_{t_0} - X^n_{t_0}\\big) +  \\sqrt{h} Z^n_1\n",
        "\\end{equation}\n",
        "and for $1 \\le m \\le M-1$,\n",
        "\\begin{align}\n",
        "X^n_{t_{m+1}} &= X^n_{t_m} + \\frac{h^2}{2t_{m} N} \\sum_{i=1}^N \\big( X^i_{t_0} + X^{i}_{t_{m}} \\big) - h X^n_{t_m} \\\\\n",
        "&\\qquad + \\frac{h^2}{t_m N} \\sum_{i=1}^N \\sum_{k=1}^{m-1} X^i_{t_k} + \\sqrt{h} Z^n_{m+1},\n",
        "\\end{align}\n",
        "where $ \\: Z_{m+1}^{n}:=\\frac{1}{\\sqrt{h}}(B^n_{t_{m+1}}-B^n_{t_{m}})$ are i.i.d random variables having the standard normal distribution $\\mathcal{N}(0,1)$. Note in particular that the drift implemented numerically also fits the discretization of a truncated drift which satisfies Assumption (II) with $\\gamma = 1$ in [1], as the singularity at $t = 0$ has been removed."
      ]
    },
    {
      "cell_type": "markdown",
      "metadata": {
        "id": "8jBtGmS1Zpfn"
      },
      "source": [
        "* We fix $T = 1$ throughout this notebook."
      ]
    },
    {
      "cell_type": "code",
      "execution_count": null,
      "metadata": {
        "id": "gNekZU5bZpfn"
      },
      "outputs": [],
      "source": [
        "# Parameters\n",
        "\n",
        "T=1.\n",
        "M=5000  # Time discretization number, adapted in the next sections.\n",
        "h=T/M  # Time step\n",
        "\n",
        "m_X0=3  # Mean of the distribution of X_0"
      ]
    },
    {
      "cell_type": "markdown",
      "metadata": {
        "id": "aTJ0dTcoZpfo"
      },
      "source": [
        "In the next cell, the function `Euler_one_step` defines the operator of the Euler scheme for one time step."
      ]
    },
    {
      "cell_type": "code",
      "execution_count": null,
      "metadata": {
        "id": "jiNdIVvNZpfq"
      },
      "outputs": [],
      "source": [
        "def Euler_first_step(X_in, N_in, h):\n",
        "    nn=np.ones(N_in)/N_in\n",
        "    t_1 = h\n",
        "\n",
        "    EXin=np.matmul(nn, X_in[:,0])\n",
        "    X_in[:, 1] = X_in[:,0] + h*(EXin - X_in[:,0]) + np.sqrt(h)*np.random.normal(0, 1, N_in)\n",
        "    return X_in[:,1]\n",
        "\n",
        "def Euler_one_step(step_in,X_in,N_in, h):\n",
        "    nn=np.ones(N_in)/N_in\n",
        "    t_in = step_in*h\n",
        "    EXin=np.matmul(np.transpose(X_in), nn)\n",
        "    X_out=(1-h)*X_in[:, step_in]+ (h**2/(2*t_in))*(EXin[0] + EXin[step_in]) + (h**2/(t_in))*(np.sum(EXin[1:step_in-1])) +np.sqrt(h)*np.random.normal(0, 1, N_in)\n",
        "    return X_out"
      ]
    },
    {
      "cell_type": "markdown",
      "metadata": {
        "id": "4Brd5gFGda8-"
      },
      "source": [
        "# II/ Application: Simulation with fixed $M$. <a class=\"anchor\" id=\"chapter2\"></a>\n",
        "The code of this section is the one used to generate [1, Figure 1].\n",
        "\n",
        "By default, this section is set with parameter $M=10000$.\n",
        "\n",
        "Modifying the parameters with $M = 100$, $pn = 11$ and $base = 9$ below, this code can also generate [1, Figure 3].\n",
        "\n",
        "## 1) Simulation of the particle system"
      ]
    },
    {
      "cell_type": "code",
      "execution_count": 3,
      "metadata": {
        "colab": {
          "base_uri": "https://localhost:8080/"
        },
        "id": "z2KDQICwdzxh",
        "outputId": "896654c8-2eeb-4e64-f9a4-99c72689a162"
      },
      "outputs": [
        {
          "output_type": "stream",
          "name": "stdout",
          "text": [
            "M= 100\n",
            "Vector of the number of particles [   512   1024   2048   4096   8192  16384  32768  65536 131072 262144\n",
            " 524288]\n"
          ]
        }
      ],
      "source": [
        "## Parameters\n",
        "T=1.\n",
        "M=10000  # Time discretization number, adapted in the next sections.\n",
        "h=T/M  # Time step\n",
        "m_X0=3\n",
        "pn = 7\n",
        "base = 9\n",
        "N_power=np.linspace(base,base+pn-1,pn)\n",
        "N_vec=2**N_power.astype(int)\n",
        "print(\"M=\", M)\n",
        "print(\"Vector of the number of particles\", N_vec)"
      ]
    },
    {
      "cell_type": "markdown",
      "metadata": {
        "id": "17b_dwA1Zpfs"
      },
      "source": [
        "First, we compute and save the particle systems at time T=1 with different particle numbers in `N_vec`. For each given particle number, we implement 30 identical and independent simulations."
      ]
    },
    {
      "cell_type": "code",
      "execution_count": 4,
      "metadata": {
        "id": "lejB8-ScTLYl"
      },
      "outputs": [],
      "source": [
        "def one_sim(particle_num, repeat, M, h):\n",
        "  particle_process=np.zeros((particle_num,M+1))\n",
        "  particle_process[:,0]=np.random.normal(m_X0, np.sqrt(1/2), particle_num)\n",
        "  particle_process[:,1]=Euler_first_step(particle_process,particle_num, h)\n",
        "  #np.savetxt(\"particle_num_\"+str(particle_num)+\"repeat\"+str(repeat)+\"step\"+str(0)+\".csv\", particle_process[:,0], delimiter=\",\")\n",
        "  #np.savetxt(\"particle_num_\"+str(particle_num)+\"repeat\"+str(repeat)+\"step\"+str(1)+\".csv\", particle_process[:,1], delimiter=\",\")\n",
        "\n",
        "  for m in range(1,M):\n",
        "    particle_process[:,m+1]=Euler_one_step(m, particle_process,particle_num,h)\n",
        "  path = \"particle_num_\"+str(particle_num)+\"repeat\"+str(repeat)+\"step\"+str(M)+\".csv\"\n",
        "  np.savetxt(path, particle_process[:,M], delimiter=\",\")\n",
        "  ## If new simulations, please save somewhere else than the destination path below, as we have there the clean data saved.\n",
        "  ## COMPLETE IN THE SECOND LINE INFORMATION ABOUT THE PATH TO SAVE THE DATA\n",
        "  source_path = path\n",
        "  #destination_path = '/content/drive/My Drive/Results_McKean_N55/'+path\n",
        "  shutil.move(source_path, destination_path)\n"
      ]
    },
    {
      "cell_type": "code",
      "execution_count": null,
      "metadata": {
        "id": "OkX72hN9T6pZ"
      },
      "outputs": [],
      "source": [
        "# Parallel simulation to run the Monte-Carlo iterations.\n",
        "\n",
        "## Please check the destination_path in the cell above before running this cell\n",
        "NNs = 30\n",
        "\n",
        "start = time.time()\n",
        "for i in range(pn):\n",
        "      print(\"Step\"+str(i)+\", M = \"+str(M)+\", N = \"+str(N_vec[i]))\n",
        "      Parallel(n_jobs = 4)(delayed(one_sim)(N_vec[i], j, M, h) for j in tqdm(range(NNs)))\n",
        "end = time.time()\n",
        "print(end-start)\n"
      ]
    },
    {
      "cell_type": "markdown",
      "metadata": {
        "id": "1pn9_w5kZpft"
      },
      "source": [
        "The following cell defines the true density function of $X_t$ for every $t\\in[0,T]$, which is the density function of the normal distribution $\\mathcal{N}(3,\\frac{1}{2})$, see [1, Proposition 2.1]."
      ]
    },
    {
      "cell_type": "code",
      "execution_count": 5,
      "metadata": {
        "id": "rWP9jXkAZpfu"
      },
      "outputs": [],
      "source": [
        "# Definition of the true density function\n",
        "\n",
        "def density_true(x_in):\n",
        "    return norm.pdf(x_in,m_X0,np.sqrt(1/2))\n"
      ]
    },
    {
      "cell_type": "markdown",
      "metadata": {
        "id": "DKcFHYRjOCSC"
      },
      "source": [
        "## 2) Estimation of the Wasserstein distance\n",
        "\n",
        "In the next cells, we compute an empirical Wasserstein distance, using\n",
        "$$ \\mathcal{W}_2(\\mu,\\nu)^2 = \\int_0^1 \\Big|F_\\mu^{-1}(q) - F_\\nu^{-1}(q) \\Big|^2 \\, d q. $$\n",
        "We start by computing the vector of theoretical quantiles for the target distribution in the next cell. Since we cannot compute the full integral with quantiles over $[0,1]$  as this gives infinite values, we use a truncation parameter epsilon."
      ]
    },
    {
      "cell_type": "code",
      "execution_count": 6,
      "metadata": {
        "id": "GdZ2voS5d219"
      },
      "outputs": [],
      "source": [
        "def estim_Wp(a,b, epsilon,p): ## takes two vectors of values and compute the estimated integral.\n",
        "    n = len(a)\n",
        "    res = ((1-2*epsilon)/n)*(((a[0] - b[0])**p + (a[-1]+b[-1])**p)/2 + np.sum((a[1:-1] - b[1:-1])**p))\n",
        "    return(res)"
      ]
    },
    {
      "cell_type": "code",
      "execution_count": 7,
      "metadata": {
        "colab": {
          "base_uri": "https://localhost:8080/"
        },
        "id": "6Rlg8hZRPsEU",
        "outputId": "fa462bf9-eaf0-4d55-c98f-5e332b5cb6a2"
      },
      "outputs": [
        {
          "output_type": "stream",
          "name": "stderr",
          "text": [
            "100%|██████████| 11/11 [2:13:28<00:00, 728.07s/it] \n"
          ]
        }
      ],
      "source": [
        "epsilon = 10**(-6) ##\n",
        "p = 2\n",
        "NNs = 30\n",
        "precision_integral = 10**6 ## This parameter is used for the integral discretization\n",
        "quantile_vector = np.arange(0.01,1,1/precision_integral)\n",
        "quantile_theoretical = norm.ppf(quantile_vector, 3, np.sqrt(1/2))\n",
        "error_basic = np.zeros((pn, NNs))\n",
        "max_error = np.zeros((pn, NNs))\n",
        "error_final = np.zeros(pn)\n",
        "for i in tqdm(range(pn)):   ## particle number\n",
        "    for nns in range(NNs):  ## Monte-Carlo repetition\n",
        "        ## CHANGE THE SECOND LINE below to access data stored somewhere else.\n",
        "        path = \"particle_num_\"+str(N_vec[i])+\"repeat\"+str(nns)+\"step\"+str(M)+\".csv\"\n",
        "        density_particle= np.array(pd.read_csv(\"/content/drive/My Drive/Results_McKean_M100/\"+path, sep=',',header=None))\n",
        "\n",
        "        ## Estimation of the Wasserstein distance with respect to the true distribution.\n",
        "        quantile_method = np.quantile(density_particle, quantile_vector)\n",
        "        error_basic[i, nns] = estim_Wp(quantile_method, quantile_theoretical, epsilon, p)\n",
        "\n",
        "    ### Computing the finate global error\n",
        "    error_final[i] = np.mean(error_basic[i,:]**p)\n",
        "\n",
        "\n",
        "\n",
        "\n",
        "\n",
        "\n"
      ]
    },
    {
      "cell_type": "markdown",
      "metadata": {
        "id": "FcShNqSFZpfw"
      },
      "source": [
        "---------------------------------------\n",
        "\n",
        "The next cell shows the log-log error curve of the density simulation with the Gaussian kernel."
      ]
    },
    {
      "cell_type": "code",
      "execution_count": 8,
      "metadata": {
        "colab": {
          "base_uri": "https://localhost:8080/",
          "height": 575
        },
        "id": "bjNF8OO2Zpfw",
        "outputId": "14185a2e-6882-470e-c1ed-33f17649d327"
      },
      "outputs": [
        {
          "output_type": "display_data",
          "data": {
            "text/plain": [
              "<Figure size 800x600 with 1 Axes>"
            ],
            "image/png": "[encoded data removed]"
          },
          "metadata": {}
        }
      ],
      "source": [
        "plt.figure(figsize=(8,6))\n",
        "plt.plot(np.log2(N_vec),np.log2(np.sqrt(error_final)), color = \"blue\", marker = \"o\")\n",
        "\n",
        "plt.xlabel('log2(N)', fontsize=14) # Adjust fontsize as needed\n",
        "plt.ylabel('log2(Error)', fontsize=14) # Adjust fontsize as needed\n",
        "plt.title('Squared Error for the estimation of the Wasserstein distance vs. N', fontsize=16) # Adjust fontsize as needed\n",
        "plt.grid(True)\n",
        "\n",
        "# Increase tick label size\n",
        "plt.xticks(fontsize=12)\n",
        "plt.yticks(fontsize=12)\n",
        "\n",
        "plt.show()"
      ]
    },
    {
      "cell_type": "markdown",
      "metadata": {
        "id": "1sOaywXlZpfw"
      },
      "source": [
        "The least-square estimate of the slope of the above curve is the following."
      ]
    },
    {
      "cell_type": "code",
      "execution_count": 9,
      "metadata": {
        "colab": {
          "base_uri": "https://localhost:8080/"
        },
        "id": "u91BRmomZpfx",
        "outputId": "f934b3b6-4463-48ec-b5fc-b8256d28e57c"
      },
      "outputs": [
        {
          "output_type": "stream",
          "name": "stdout",
          "text": [
            "The estimate of the slope is [-0.04427027]\n",
            "The estimate of the intercept is -5.855978730497368\n"
          ]
        }
      ],
      "source": [
        "X=np.log2(N_vec).reshape(-1,1)\n",
        "y=np.log2(np.sqrt(error_final))\n",
        "reg_Gaussian = LinearRegression().fit(X, y)\n",
        "print (\"The estimate of the slope is\", reg_Gaussian.coef_)\n",
        "print (\"The estimate of the intercept is\", reg_Gaussian.intercept_)\n"
      ]
    },
    {
      "cell_type": "markdown",
      "metadata": {
        "id": "Jg4nUS-ANJHy"
      },
      "source": [
        "# III/ Simulation with $M = N^\\alpha$. <a class=\"anchor\" id=\"chapter3\"></a>\n",
        "\n",
        "## 1) Simulation\n",
        "\n",
        "The code of this section is used to generate [1, Figure 2]."
      ]
    },
    {
      "cell_type": "code",
      "execution_count": null,
      "metadata": {
        "colab": {
          "base_uri": "https://localhost:8080/"
        },
        "id": "MvDjCax2NIUv",
        "outputId": "c0734750-e175-4525-93ee-16a46a7fba92"
      },
      "outputs": [
        {
          "name": "stdout",
          "output_type": "stream",
          "text": [
            "[ 9. 10. 11. 12. 13. 14. 15. 16. 17. 18.]\n",
            "[   512   1024   2048   4096   8192  16384  32768  65536 131072 262144]\n",
            "[ 31.  45.  66.  97. 142. 208. 304. 446. 653. 955.]\n"
          ]
        }
      ],
      "source": [
        "# Parameters\n",
        "\n",
        "T=1.\n",
        "m_X0=3  # Mean of the distribution of X_0\n",
        "pn=10\n",
        "base = 9\n",
        "alpha = .55\n",
        "N_power=np.linspace(base,base+pn-1,pn)\n",
        "print (N_power)\n",
        "N_vec=2**N_power.astype(int) # Number of particles, from 2^7 to 2^15\n",
        "M_vec = np.rint(N_vec**(alpha))\n",
        "print(N_vec)\n",
        "print(M_vec)"
      ]
    },
    {
      "cell_type": "code",
      "execution_count": null,
      "metadata": {
        "colab": {
          "base_uri": "https://localhost:8080/"
        },
        "id": "PwC2gemXN8Wk",
        "outputId": "fa2d0482-535d-4334-ea8f-8432559dea6d"
      },
      "outputs": [
        {
          "name": "stdout",
          "output_type": "stream",
          "text": [
            "Step0, M = 31, N = 512\n"
          ]
        },
        {
          "name": "stderr",
          "output_type": "stream",
          "text": [
            "100%|██████████| 30/30 [00:13<00:00,  2.22it/s]\n"
          ]
        },
        {
          "name": "stdout",
          "output_type": "stream",
          "text": [
            "Step1, M = 45, N = 1024\n"
          ]
        },
        {
          "name": "stderr",
          "output_type": "stream",
          "text": [
            "100%|██████████| 30/30 [00:12<00:00,  2.48it/s]\n"
          ]
        },
        {
          "name": "stdout",
          "output_type": "stream",
          "text": [
            "Step2, M = 66, N = 2048\n"
          ]
        },
        {
          "name": "stderr",
          "output_type": "stream",
          "text": [
            "100%|██████████| 30/30 [00:12<00:00,  2.35it/s]\n"
          ]
        },
        {
          "name": "stdout",
          "output_type": "stream",
          "text": [
            "Step3, M = 97, N = 4096\n"
          ]
        },
        {
          "name": "stderr",
          "output_type": "stream",
          "text": [
            "100%|██████████| 30/30 [00:13<00:00,  2.18it/s]\n"
          ]
        },
        {
          "name": "stdout",
          "output_type": "stream",
          "text": [
            "Step4, M = 142, N = 8192\n"
          ]
        },
        {
          "name": "stderr",
          "output_type": "stream",
          "text": [
            "100%|██████████| 30/30 [00:18<00:00,  1.66it/s]\n"
          ]
        },
        {
          "name": "stdout",
          "output_type": "stream",
          "text": [
            "Step5, M = 208, N = 16384\n"
          ]
        },
        {
          "name": "stderr",
          "output_type": "stream",
          "text": [
            "100%|██████████| 30/30 [00:33<00:00,  1.10s/it]\n"
          ]
        },
        {
          "name": "stdout",
          "output_type": "stream",
          "text": [
            "Step6, M = 304, N = 32768\n"
          ]
        },
        {
          "name": "stderr",
          "output_type": "stream",
          "text": [
            "100%|██████████| 30/30 [01:27<00:00,  2.91s/it]\n"
          ]
        },
        {
          "name": "stdout",
          "output_type": "stream",
          "text": [
            "Step7, M = 446, N = 65536\n"
          ]
        },
        {
          "name": "stderr",
          "output_type": "stream",
          "text": [
            "100%|██████████| 30/30 [04:52<00:00,  9.74s/it]\n"
          ]
        },
        {
          "name": "stdout",
          "output_type": "stream",
          "text": [
            "Step8, M = 653, N = 131072\n"
          ]
        },
        {
          "name": "stderr",
          "output_type": "stream",
          "text": [
            "100%|██████████| 30/30 [17:46<00:00, 35.54s/it]\n"
          ]
        },
        {
          "name": "stdout",
          "output_type": "stream",
          "text": [
            "Step9, M = 955, N = 262144\n"
          ]
        },
        {
          "name": "stderr",
          "output_type": "stream",
          "text": [
            "100%|██████████| 30/30 [1:06:13<00:00, 132.44s/it]\n"
          ]
        }
      ],
      "source": [
        "## Check the destination path in the function one_sim below before executing this cell\n",
        "\n",
        "NNs = 30\n",
        "\n",
        "start = time.time()\n",
        "for i in range(pn):\n",
        "      M = M_vec[i].astype(int)\n",
        "      h = T/M\n",
        "      print(\"Step\"+str(i)+\", M = \"+str(M)+\", N = \"+str(N_vec[i]))\n",
        "      Parallel(n_jobs = 4)(delayed(one_sim)(N_vec[i], j, M, h) for j in tqdm(range(NNs)))\n",
        "end = time.time()\n",
        "print(end-start)\n"
      ]
    },
    {
      "cell_type": "markdown",
      "metadata": {
        "id": "Ex3h90RSsOI8"
      },
      "source": [
        "## 2) Estimation of the Wasserstein distance"
      ]
    },
    {
      "cell_type": "code",
      "execution_count": null,
      "metadata": {
        "colab": {
          "base_uri": "https://localhost:8080/"
        },
        "id": "KTnCd0m3PWIu",
        "outputId": "b24949bf-a6cb-4621-fc88-714b97fe1d06"
      },
      "outputs": [
        {
          "name": "stderr",
          "output_type": "stream",
          "text": [
            "100%|██████████| 10/10 [36:24<00:00, 218.42s/it]\n"
          ]
        }
      ],
      "source": [
        "epsilon = 10**(-6) ## can't compute int_0^1 with quantiles as this gives infinite values\n",
        "# epsilon is the truncation value\n",
        "p = 2\n",
        "NNs = 30\n",
        "pn = 10\n",
        "precision_integral = 10**6\n",
        "quantile_vector = np.arange(0.01,1,1/precision_integral)\n",
        "quantile_theoretical = norm.ppf(quantile_vector, 3, np.sqrt(1/2))\n",
        "error_basic = np.zeros((pn, NNs))\n",
        "max_error = np.zeros((pn, NNs))\n",
        "error_final = np.zeros(pn)\n",
        "for i in tqdm(range(pn)):   ## particle number\n",
        "    for nns in range(NNs):  ## Monte-Carlo repetition\n",
        "        M = int(M_vec[i])\n",
        "        h = T/M\n",
        "        #print(\"N = \"+str(N_vec[i])+\", M = \"+str(M))\n",
        "        ## Change the second line below to access data stored somewhere else.\n",
        "        path = \"particle_num_\"+str(N_vec[i])+\"repeat\"+str(nns)+\"step\"+str(M)+\".csv\"\n",
        "        density_particle= np.array(pd.read_csv(\"/content/drive/My Drive/Results_McKean_N55/\"+path, sep=',',header=None))\n",
        "        ## We have NNs simulations with 2^7 particles for instance. Here we upload the last iteration (result at time T).\n",
        "        ## Let us estimate the Wasserstein distance with respect to the true distribution.\n",
        "        quantile_method = np.quantile(density_particle, quantile_vector)\n",
        "        error_basic[i, nns] = estim_Wp(quantile_method, quantile_theoretical, epsilon, p)\n",
        "\n",
        "    ### Computing the finate global error\n",
        "    error_final[i] = np.mean(error_basic[i,:]**p)"
      ]
    },
    {
      "cell_type": "code",
      "execution_count": null,
      "metadata": {
        "colab": {
          "base_uri": "https://localhost:8080/",
          "height": 575
        },
        "id": "zZNjyvWOuKS7",
        "outputId": "ab111868-90f2-4a8d-e157-7101c7984692"
      },
      "outputs": [
        {
          "data": {
            "image/png": "[encoded data removed]",
            "text/plain": [
              "<Figure size 800x600 with 1 Axes>"
            ]
          },
          "metadata": {},
          "output_type": "display_data"
        }
      ],
      "source": [
        "plt.figure(figsize=(8,6))\n",
        "plt.plot(np.log2(N_vec),np.log2(np.sqrt(error_final)), color = \"blue\", marker = \"o\")\n",
        "\n",
        "plt.xlabel('log2(N)', fontsize=14) # Adjust fontsize as needed\n",
        "plt.ylabel('log2(Error)', fontsize=14) # Adjust fontsize as needed\n",
        "plt.title('Squared Error for the estimation of the Wasserstein distance vs. N', fontsize=16) # Adjust fontsize as needed\n",
        "plt.grid(True)\n",
        "\n",
        "# Increase tick label size\n",
        "plt.xticks(fontsize=12)\n",
        "plt.yticks(fontsize=12)\n",
        "\n",
        "plt.show()"
      ]
    },
    {
      "cell_type": "code",
      "execution_count": null,
      "metadata": {
        "colab": {
          "base_uri": "https://localhost:8080/"
        },
        "id": "ouS41cE56pQT",
        "outputId": "78af487d-c3a0-4633-9c5c-1e9bc001e140"
      },
      "outputs": [
        {
          "name": "stdout",
          "output_type": "stream",
          "text": [
            "The estimate of the slope is [-0.81403998]\n",
            "The estimate of the intercept is 3.309005772231089\n"
          ]
        }
      ],
      "source": [
        "X=np.log2(N_vec).reshape(-1,1)\n",
        "y=np.log2(np.sqrt(error_final))\n",
        "reg_Gaussian = LinearRegression().fit(X, y)\n",
        "print (\"The estimate of the slope is\", reg_Gaussian.coef_)\n",
        "print (\"The estimate of the intercept is\", reg_Gaussian.intercept_)"
      ]
    },
    {
      "cell_type": "code",
      "execution_count": null,
      "metadata": {
        "id": "36DdcT5sLnL1"
      },
      "outputs": [],
      "source": []
    }
  ],
  "metadata": {
    "colab": {
      "provenance": []
    },
    "kernelspec": {
      "display_name": "Python 3 (ipykernel)",
      "language": "python",
      "name": "python3"
    },
    "language_info": {
      "codemirror_mode": {
        "name": "ipython",
        "version": 3
      },
      "file_extension": ".py",
      "mimetype": "text/x-python",
      "name": "python",
      "nbconvert_exporter": "python",
      "pygments_lexer": "ipython3",
      "version": "3.9.12"
    }
  },
  "nbformat": 4,
  "nbformat_minor": 0
}