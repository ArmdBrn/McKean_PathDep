{
  "cells": [
    {
      "cell_type": "markdown",
      "metadata": {
        "id": "9wf_oejrgi_N"
      },
      "source": [
        "# A path-dependent McKean-Vlasov model for neural masses.\n",
        "\n",
        "This notebook implements the simulations described in Section 2.2 of\n",
        "\n",
        "- Bernou, A. and Liu, Y. (2024). Particle method for numerical simulation of the path-dependent McKean-Vlasov equation.\n",
        "\n",
        "-------------------------------\n",
        "\n",
        "**Contents**\n",
        "\n",
        "* [1. Definition of the model](#chapter1)\n",
        "\n",
        "* [2. Definition of the particle system and of the Euler scheme](#chapter2)\n",
        "\n",
        "* [3. Simulation with M = 450](#chapter3)\n",
        "\n",
        "* [4. Estimation of the Wasserstein distance by coordinates](#chapter4)\n",
        "\n",
        "* [5. Estimation via a test function](#chapter5)\n",
        "\n",
        "-------------------------------\n",
        "\n",
        "Throughout this notebook, we refer several times to [FTC09], which designates the article of\n",
        "O. Faugeras, J. Touboul, and B. Cessac, *A constructive mean-field analysis of multi population neural networks with random synaptic weights and stochastic inputs*. Frontiers in Computational Neuroscience, 3, 2009."
      ]
    },
    {
      "cell_type": "code",
      "execution_count": null,
      "metadata": {
        "id": "6WNsuAXygi_P"
      },
      "outputs": [],
      "source": [
        "import numpy as np\n",
        "import matplotlib.pyplot as plt\n",
        "from tqdm import tqdm\n",
        "import random\n",
        "from joblib import Parallel, delayed\n",
        "import time\n",
        "import shutil\n",
        "\n",
        "import pandas as pd\n",
        "from scipy.stats import norm\n",
        "from sklearn.linear_model import LinearRegression"
      ]
    },
    {
      "cell_type": "code",
      "execution_count": null,
      "metadata": {
        "colab": {
          "base_uri": "https://localhost:8080/"
        },
        "id": "mBB0ToIzNuU2",
        "outputId": "fddb98fa-1637-4ef6-9666-ca1b1f7429d1"
      },
      "outputs": [
        {
          "name": "stdout",
          "output_type": "stream",
          "text": [
            "Mounted at /content/drive\n"
          ]
        }
      ],
      "source": [
        "from google.colab import drive\n",
        "drive.mount('/content/drive')"
      ]
    },
    {
      "cell_type": "markdown",
      "metadata": {
        "id": "QqpZ524Egi_Q"
      },
      "source": [
        "# 1. Definition of the model <a class=\"anchor\" id=\"chapter1\"></a>\n"
      ]
    },
    {
      "cell_type": "markdown",
      "metadata": {
        "id": "GBRM2QDPgi_R"
      },
      "source": [
        "We consider a stochastic process $(\\bar V_t)_{t\\in[0, T]}$ with $\\bar V_t \\in \\mathbb{R}^3$ for each $t \\ge 0$ defined by the following McKean-Vlasov SDE\n",
        "\\begin{align*}\n",
        "\\left\\{\n",
        "\t\\begin{array}{ll}\n",
        "d \\bar V_j(t) &= \\Big\\{-\\frac{V_j(t)}{\\tau_j} + \\sum_{k=1}^3 D_{j,k} \\Big( 1 + \\varepsilon \\int_0^t \\varphi\\big(\\bar V_k(u)\\big) d u \\Big) \\int_{\\mathbb{R}} S(y) \\mu^k_{t-\\triangle}(d y)+ I_j(t) \\Big\\} d t +  f_j(t) d W^j_t \\\\\n",
        "\t\t\\bar V_j(t) &\\sim \\mu^j_t, \\quad t \\in [0,T],\n",
        "\t\t\\end{array}\n",
        "\t\t\\right.\n",
        "  \\end{align*}\n",
        "\n",
        "where for every  $t\\in[0,T]$, $\\mu^k_t$ denotes the probability distribution of $\\bar V_k(t)$.  This process models the limit behavior of the underlying potential of three different neural populations in the mean-field limit. This is an extension of the model considered in [FTC09] which accounts for excitability and delay through the use of the whole trajectories.\n",
        "\n",
        "\n",
        "\n",
        "\n",
        "\n",
        "\n"
      ]
    },
    {
      "cell_type": "markdown",
      "metadata": {
        "id": "Syiv3VtASxQZ"
      },
      "source": [
        "We consider the following parameters:\n",
        "- $\\varphi(x) = e^{-|x|}$ on $\\mathbb{R}$,\n",
        "- $f_j \\equiv 1$ for all $j$,\n",
        "- $I_j \\equiv 0$,\n",
        "- $\\Delta = 0.1$,\n",
        "- $T = 1$,\n",
        "- $\\varepsilon = 0.1$,\n",
        "- $D_{1,2} = 1$, $D_{1,3} = 1$, $D_{2,1} = 5$, $D_{3,1} = -3$, $D_{i,i} = 1$ for all $i \\in \\{1,2,3\\}$ and $D_{i,j}$ for all other $(i,j) \\in \\{1,2,3\\}^2$.\n",
        "- $S(v) = \\frac{10}{1 + e^{(1-v)}}$,\n",
        "- $\\tau = (\\tau_j)_{1\\le j\\le 3}$ with $\\tau = (1,1,1)$.\n",
        "\n",
        "With those parameters, the model rewrites:\n",
        "\\begin{align*}\n",
        "\\left\\{\n",
        "\t\\begin{array}{ll}\n",
        "d \\bar V_j(t) &= \\Big\\{-V_j(t) + \\sum_{k=1}^3 D_{j,k} \\Big( 1 + 0.1 \\int_0^t e^{-|V_k(u)|}\\Big) d u \\Big) \\int_{\\mathbb{R}} \\frac{10}{1+e^{1-y}} \\mu^k_{t-\\triangle}(d y) \\Big\\} dt\\\\\n",
        "\t\t&\\qquad \\qquad +  d W^j_t \\\\\n",
        "\t\t\\\\\n",
        "\t\t&\\bar V_j(t) \\sim \\mu^j_t, \\quad t \\in [0,T],\n",
        "\t\t\\end{array}\n",
        "\t\t\\right.\n",
        "  \\end{align*}"
      ]
    },
    {
      "cell_type": "markdown",
      "metadata": {
        "id": "1T9rNdWRVv-T"
      },
      "source": [
        "# 2. Definition of the particle system and of the Euler scheme  <a class=\"anchor\" id=\"chapter2\"></a>"
      ]
    },
    {
      "cell_type": "markdown",
      "metadata": {
        "id": "rj8rSLr7gi_S"
      },
      "source": [
        "Let $N$ be the number of particles. The $N$-particle system $(V_t^{1}, ..., V_t^{N})_{t\\in[0,T]}$ corresponding to Equation (1) is defined as follows :\n",
        "\n",
        "\\begin{equation}\n",
        "\\begin{aligned}\n",
        "V_{j,i}(t) &= V_{j,i}(0) - \\int_0^t V_{j,i}(s) ds + \\int_0^t \\sum_{k=1}^3 \\sum_{\\ell = 1}^N \\frac{D_{j,k}}{N}  \\Big( 1 + 0.1 \\int_0^s e^{-|V_{k,\\ell}(u)|} d u \\Big)  \\frac{10}{1 + e^{1 - V_{k,\\ell}(s - \\Delta)}} ds + W^{j,i}(t).\n",
        "\\end{aligned}\n",
        "\\end{equation}\n",
        "\n",
        "Since a delay is included in the equation, we will take as initial data, for all $t \\in [0, 0.2]$, $\\bar V_j(t) = (1,0,-1)$, and accordingly\n",
        "$V_{\\cdot,i}(t) = (1,0,-1)$ for all $t \\in [0,0.2]$, all $1 \\le i \\le N$."
      ]
    },
    {
      "cell_type": "markdown",
      "metadata": {
        "id": "Cf5-f_cggi_T"
      },
      "source": [
        "Let $M$ denote the time discretization number for the Euler scheme. Set $h=\\frac{T}{M}$ and $t_m=m\\cdot h, 0\\leq m\\leq M$. Combining the particle system (2) and the Euler scheme, we obtain the following discrete particle system :\n",
        "\\begin{equation} V^{n}_{t_{m}} = (1,0,-1) \\hbox{ for } t_m \\le 0.1; \\end{equation}\n",
        "\\begin{equation}\n",
        "V^{n}_{t_{m+1}}=(1-h) V^{n}_{t_{m}} + \\frac{h}{N} \\sum_{\\ell=1}^N  D H^\\ell_{t_m, \\Delta} + \\sqrt{h} Z_{p+1}\n",
        ",\\quad 1\\leq n\\leq N,\n",
        "\\end{equation}\n",
        "where $ \\: Z_{m+1}^{n}:=\\frac{1}{\\sqrt{h}}(B^n_{t_{m+1}}-B^n_{t_{m}})$ are i.i.d random variables having the standard normal distribution $\\mathcal{N}(0,I_3)$, and where for all $p \\{0,\\dots,M\\}$, $H_{t_p,\\Delta} \\in \\mathbb{R}^3$ with $k \\in \\{1,2,3\\}$,\n",
        "\\begin{equation}\n",
        "(H^\\ell_{t_p,\\Delta})_k = \\Big( 1+ 0.1 \\sum_{q = 0}^p e^{-|V^{\\ell,k}(q)|}\\Big) \\frac{10}{1 + e^{1 - V^{\\ell,k}(t_p - \\Delta)}}\n",
        "\\end{equation}"
      ]
    },
    {
      "cell_type": "markdown",
      "metadata": {
        "id": "GIRlyLie-qYU"
      },
      "source": [
        "We start with the function initializing the data."
      ]
    },
    {
      "cell_type": "code",
      "execution_count": null,
      "metadata": {
        "id": "4MXM_zs9-pWm"
      },
      "outputs": [],
      "source": [
        "def init_step(V_0, step_0, h):\n",
        "  data = np.transpose(np.repeat(V_0, step_0+1, axis = 0))\n",
        "  return data"
      ]
    },
    {
      "cell_type": "code",
      "execution_count": null,
      "metadata": {
        "id": "ay1uhfd2v4o6"
      },
      "outputs": [],
      "source": [
        "def H(V_in, step_in, Delta,h):\n",
        "  pre_factor = 1 + 0.1*np.sum(np.exp(-np.abs(V_in[:,:,0:step_in])), axis = 2)\n",
        "  return (pre_factor * 10 / (1 + np.exp(1-V_in[:,:,step_in-int(Delta/h)])))"
      ]
    },
    {
      "cell_type": "markdown",
      "metadata": {
        "id": "FciH36udgi_V"
      },
      "source": [
        "In the next cell, the function `Euler_one_step` defines the operator of the Euler scheme for one time step. Note that the current array will be 3-dimensional, with M matrices of size (particle_number, 3)"
      ]
    },
    {
      "cell_type": "code",
      "execution_count": null,
      "metadata": {
        "id": "X8RXXrxjgi_W"
      },
      "outputs": [],
      "source": [
        "def Euler_one_step(step_0, step_in,V_in,N_in, Z_in,h, D):\n",
        "    nn=np.ones(N_in)/N_in\n",
        "    t_in = step_in*h\n",
        "    H_inc = np.reshape(np.array(H(V_in, step_in, Delta,h) ), (N_in, 3, 1))\n",
        "    H_vec = [np.transpose(H_inc[:,:,j]) for j in range(H_inc.shape[2])]\n",
        "    drift_inc = np.array([np.matmul(D, H_inc[j,:,0]) for j in range(N_in)])\n",
        "    V_temp = V_in[:,:,step_in]*(1-h) + h/(N_in)*drift_inc + np.sqrt(h)*Z_in[:,:,step_in+1]\n",
        "    return V_temp"
      ]
    },
    {
      "cell_type": "markdown",
      "metadata": {
        "id": "bH567akUgi_Y"
      },
      "source": [
        "First, we compute and save the particle systems at time T=1 with different particle numbers in `N_vec`. For each given particle number, we implement 30 identical and independent simulations."
      ]
    },
    {
      "cell_type": "code",
      "execution_count": null,
      "metadata": {
        "id": "f_B2Mnv2QtPy"
      },
      "outputs": [],
      "source": [
        "def one_sim(N_in, nns, M, V_0, Delta, D):\n",
        "  h = T/M\n",
        "  time_step = np.linspace(0,T,M, endpoint =True)\n",
        "  step_0 = np.argmax(time_step>Delta)-1\n",
        "  V_in = np.array([init_step(V_0, step_0,h)]*N_in)\n",
        "  V_in = np.concatenate((V_in, np.zeros((N_in,3,M-step_0))), axis = 2)\n",
        "  Z_in = np.random.normal(size=(N_in, 3,M+1))\n",
        "\n",
        "  for i in range(step_0, time_step.shape[0]):\n",
        "    V_in[:,:,i+1] = Euler_one_step(step_0,i,V_in,N_in,Z_in,h, D)\n",
        "  path = \"Neural_mass_particle_num_\"+str(N_in)+\"repeat_\"+str(nns)+\"M_\"+str(M)+\".csv\"\n",
        "  destination_path = 'Results_Neural_v4/'+path\n",
        "  np.savetxt(destination_path, V_in[:,:,-1], delimiter=\",\")\n",
        "  ## If new simulations, please save somewhere else than the destination path below, as we have there the clean data saved."
      ]
    },
    {
      "cell_type": "markdown",
      "metadata": {
        "id": "bAweBNTWnjyr"
      },
      "source": [
        "# 3) Simulation with M = 450 <a class=\"anchor\" id=\"chapter3\"></a>"
      ]
    },
    {
      "cell_type": "markdown",
      "metadata": {
        "id": "Nv_aL2Fggi_X"
      },
      "source": [
        "We consider $N\\in\\{2^7=128, 2^8=256, ..., 2^{16}=65536\\}$."
      ]
    },
    {
      "cell_type": "code",
      "execution_count": null,
      "metadata": {
        "colab": {
          "base_uri": "https://localhost:8080/"
        },
        "id": "eCUJvsiTmggm",
        "outputId": "c4c92936-3794-4931-93dd-d9f14e23405e"
      },
      "outputs": [
        {
          "name": "stdout",
          "output_type": "stream",
          "text": [
            "[  128   256   512  1024  2048  4096  8192 16384 32768 65536]\n"
          ]
        }
      ],
      "source": [
        "# Parameters\n",
        "\n",
        "T=1.\n",
        "NNs = 30\n",
        "M = 450\n",
        "h = T/M\n",
        "V_0 = np.array([[1,0,-1]])\n",
        "Delta = 0.1\n",
        "D = np.array([[1,1,1],[5,1,0],[-3,0,1]])\n",
        "pn = 10\n",
        "base = 7\n",
        "N_power=np.linspace(base,base+pn-1,pn)\n",
        "N_vec=2**N_power.astype(int)\n",
        "print(N_vec)"
      ]
    },
    {
      "cell_type": "markdown",
      "metadata": {
        "id": "Ipxfb3P658in"
      },
      "source": [
        "The following cell computes the result of our Euler scheme. As the data are already present in the repository, it may be skipped if one focuses on the estimations methods. If not, the destination_path commented in the one_sim function above must be modified."
      ]
    },
    {
      "cell_type": "code",
      "execution_count": null,
      "metadata": {
        "colab": {
          "base_uri": "https://localhost:8080/"
        },
        "id": "Og-atfm3QkQ9",
        "outputId": "3b995195-f725-47bf-b7c9-ff4c14d38a1f"
      },
      "outputs": [
        {
          "name": "stdout",
          "output_type": "stream",
          "text": [
            "Step0, M = 450, N = 128\n"
          ]
        },
        {
          "name": "stderr",
          "output_type": "stream",
          "text": [
            "100%|██████████| 30/30 [00:21<00:00,  1.41it/s]\n"
          ]
        },
        {
          "name": "stdout",
          "output_type": "stream",
          "text": [
            "Step1, M = 450, N = 256\n"
          ]
        },
        {
          "name": "stderr",
          "output_type": "stream",
          "text": [
            "100%|██████████| 30/30 [00:39<00:00,  1.30s/it]\n"
          ]
        },
        {
          "name": "stdout",
          "output_type": "stream",
          "text": [
            "Step2, M = 450, N = 512\n"
          ]
        },
        {
          "name": "stderr",
          "output_type": "stream",
          "text": [
            "100%|██████████| 30/30 [01:07<00:00,  2.24s/it]\n"
          ]
        },
        {
          "name": "stdout",
          "output_type": "stream",
          "text": [
            "Step3, M = 450, N = 1024\n"
          ]
        },
        {
          "name": "stderr",
          "output_type": "stream",
          "text": [
            "100%|██████████| 30/30 [02:12<00:00,  4.42s/it]\n"
          ]
        },
        {
          "name": "stdout",
          "output_type": "stream",
          "text": [
            "Step4, M = 450, N = 2048\n"
          ]
        },
        {
          "name": "stderr",
          "output_type": "stream",
          "text": [
            "100%|██████████| 30/30 [04:18<00:00,  8.60s/it]\n"
          ]
        },
        {
          "name": "stdout",
          "output_type": "stream",
          "text": [
            "Step5, M = 450, N = 4096\n"
          ]
        },
        {
          "name": "stderr",
          "output_type": "stream",
          "text": [
            "100%|██████████| 30/30 [09:02<00:00, 18.07s/it]\n"
          ]
        },
        {
          "name": "stdout",
          "output_type": "stream",
          "text": [
            "Step6, M = 450, N = 8192\n"
          ]
        },
        {
          "name": "stderr",
          "output_type": "stream",
          "text": [
            "100%|██████████| 30/30 [18:10<00:00, 36.36s/it]\n"
          ]
        },
        {
          "name": "stdout",
          "output_type": "stream",
          "text": [
            "Step7, M = 450, N = 16384\n"
          ]
        },
        {
          "name": "stderr",
          "output_type": "stream",
          "text": [
            "100%|██████████| 30/30 [37:27<00:00, 74.91s/it]\n"
          ]
        },
        {
          "name": "stdout",
          "output_type": "stream",
          "text": [
            "Step8, M = 450, N = 32768\n"
          ]
        },
        {
          "name": "stderr",
          "output_type": "stream",
          "text": [
            "100%|██████████| 30/30 [1:15:10<00:00, 150.34s/it]\n"
          ]
        },
        {
          "name": "stdout",
          "output_type": "stream",
          "text": [
            "Step9, M = 450, N = 65536\n"
          ]
        },
        {
          "name": "stderr",
          "output_type": "stream",
          "text": [
            "100%|██████████| 30/30 [2:29:55<00:00, 299.86s/it]\n"
          ]
        },
        {
          "name": "stdout",
          "output_type": "stream",
          "text": [
            "22494.327100276947\n"
          ]
        }
      ],
      "source": [
        "start = time.time()\n",
        "for i in range(pn):\n",
        "      Delta = .1\n",
        "      step_0 = int(Delta/h)\n",
        "      print(\"Step\"+str(i)+\", M = \"+str(M)+\", N = \"+str(N_vec[i]))\n",
        "      Parallel(n_jobs = 4)(delayed(one_sim)(N_vec[i], j, M, V_0, Delta, D) for j in tqdm(range(NNs)))\n",
        "end = time.time()\n",
        "print(end-start)"
      ]
    },
    {
      "cell_type": "markdown",
      "metadata": {
        "id": "f-ehL1NyvpKc"
      },
      "source": [
        "# 4) Estimation of the Wasserstein distance by coordinates. <a class=\"anchor\" id=\"chapter4\"></a>\n",
        "\n",
        "In the next cells, we compute an empirical Wasserstein distance.\n",
        "We start by computing the vector of theoretical quantiles for the target distribution."
      ]
    },
    {
      "cell_type": "code",
      "execution_count": null,
      "metadata": {
        "id": "Nf3xnSoid3vC"
      },
      "outputs": [],
      "source": [
        "def estim_Wp(a,b, epsilon,p): ## takes two vectors of values and compute the estimated integral.\n",
        "    n = len(a)\n",
        "    res = ((1-2*epsilon)/n)*(((a[0] - b[0])**p + (a[-1]+b[-1])**p)/2 + np.sum((a[1:-1] - b[1:-1])**p))\n",
        "    return(res)"
      ]
    },
    {
      "cell_type": "code",
      "execution_count": null,
      "metadata": {
        "colab": {
          "base_uri": "https://localhost:8080/"
        },
        "id": "Gcq1LFBn0mxK",
        "outputId": "ff3d2f6b-1086-4d66-818c-79ea7daf2ee9"
      },
      "outputs": [
        {
          "name": "stderr",
          "output_type": "stream",
          "text": [
            "  0%|          | 0/3 [00:00<?, ?it/s]\n",
            "  0%|          | 0/30 [00:00<?, ?it/s]\u001b[A\n",
            "  3%|▎         | 1/30 [00:03<01:40,  3.47s/it]\u001b[A\n",
            "  7%|▋         | 2/30 [00:08<02:11,  4.68s/it]\u001b[A\n",
            " 10%|█         | 3/30 [00:12<01:54,  4.26s/it]\u001b[A\n",
            " 13%|█▎        | 4/30 [00:17<01:52,  4.34s/it]\u001b[A\n",
            " 17%|█▋        | 5/30 [00:20<01:36,  3.85s/it]\u001b[A\n",
            " 20%|██        | 6/30 [00:24<01:33,  3.89s/it]\u001b[A\n",
            " 23%|██▎       | 7/30 [00:27<01:28,  3.84s/it]\u001b[A\n",
            " 27%|██▋       | 8/30 [00:33<01:34,  4.32s/it]\u001b[A\n",
            " 30%|███       | 9/30 [00:37<01:32,  4.43s/it]\u001b[A\n",
            " 33%|███▎      | 10/30 [00:41<01:23,  4.17s/it]\u001b[A\n",
            " 37%|███▋      | 11/30 [00:44<01:13,  3.86s/it]\u001b[A\n",
            " 40%|████      | 12/30 [00:47<01:03,  3.54s/it]\u001b[A\n",
            " 43%|████▎     | 13/30 [00:50<00:58,  3.47s/it]\u001b[A\n",
            " 47%|████▋     | 14/30 [00:53<00:52,  3.28s/it]\u001b[A\n",
            " 50%|█████     | 15/30 [00:57<00:53,  3.57s/it]\u001b[A\n",
            " 53%|█████▎    | 16/30 [01:02<00:52,  3.75s/it]\u001b[A\n",
            " 57%|█████▋    | 17/30 [01:05<00:48,  3.74s/it]\u001b[A\n",
            " 60%|██████    | 18/30 [01:10<00:49,  4.11s/it]\u001b[A\n",
            " 63%|██████▎   | 19/30 [01:14<00:45,  4.11s/it]\u001b[A\n",
            " 67%|██████▋   | 20/30 [01:19<00:41,  4.19s/it]\u001b[A\n",
            " 70%|███████   | 21/30 [01:22<00:36,  4.02s/it]\u001b[A\n",
            " 73%|███████▎  | 22/30 [01:28<00:35,  4.45s/it]\u001b[A\n",
            " 77%|███████▋  | 23/30 [01:32<00:30,  4.37s/it]\u001b[A\n",
            " 80%|████████  | 24/30 [01:36<00:25,  4.33s/it]\u001b[A\n",
            " 83%|████████▎ | 25/30 [01:39<00:20,  4.01s/it]\u001b[A\n",
            " 87%|████████▋ | 26/30 [01:45<00:17,  4.40s/it]\u001b[A\n",
            " 90%|█████████ | 27/30 [01:49<00:13,  4.34s/it]\u001b[A\n",
            " 93%|█████████▎| 28/30 [01:55<00:09,  4.88s/it]\u001b[A\n",
            " 97%|█████████▋| 29/30 [02:00<00:04,  4.99s/it]\u001b[A\n",
            "100%|██████████| 30/30 [02:03<00:00,  4.12s/it]\n",
            " 33%|███▎      | 1/3 [02:03<04:07, 123.73s/it]\n",
            "  0%|          | 0/30 [00:00<?, ?it/s]\u001b[A\n",
            "  3%|▎         | 1/30 [00:03<01:51,  3.83s/it]\u001b[A\n",
            "  7%|▋         | 2/30 [00:07<01:40,  3.57s/it]\u001b[A\n",
            " 10%|█         | 3/30 [00:10<01:32,  3.41s/it]\u001b[A\n",
            " 13%|█▎        | 4/30 [00:12<01:17,  2.98s/it]\u001b[A\n",
            " 17%|█▋        | 5/30 [00:15<01:13,  2.93s/it]\u001b[A\n",
            " 20%|██        | 6/30 [00:18<01:06,  2.78s/it]\u001b[A\n",
            " 23%|██▎       | 7/30 [00:22<01:13,  3.22s/it]\u001b[A\n",
            " 27%|██▋       | 8/30 [00:27<01:23,  3.79s/it]\u001b[A\n",
            " 30%|███       | 9/30 [00:32<01:31,  4.36s/it]\u001b[A\n",
            " 33%|███▎      | 10/30 [00:35<01:17,  3.90s/it]\u001b[A\n",
            " 37%|███▋      | 11/30 [00:42<01:32,  4.84s/it]\u001b[A\n",
            " 40%|████      | 12/30 [00:46<01:24,  4.67s/it]\u001b[A\n",
            " 43%|████▎     | 13/30 [00:51<01:19,  4.65s/it]\u001b[A\n",
            " 47%|████▋     | 14/30 [00:53<01:02,  3.89s/it]\u001b[A\n",
            " 50%|█████     | 15/30 [00:58<01:02,  4.15s/it]\u001b[A\n",
            " 53%|█████▎    | 16/30 [01:00<00:50,  3.57s/it]\u001b[A\n",
            " 57%|█████▋    | 17/30 [01:03<00:45,  3.48s/it]\u001b[A\n",
            " 60%|██████    | 18/30 [01:08<00:45,  3.79s/it]\u001b[A\n",
            " 63%|██████▎   | 19/30 [01:11<00:38,  3.49s/it]\u001b[A\n",
            " 67%|██████▋   | 20/30 [01:13<00:32,  3.26s/it]\u001b[A\n",
            " 70%|███████   | 21/30 [01:17<00:30,  3.33s/it]\u001b[A\n",
            " 73%|███████▎  | 22/30 [01:21<00:28,  3.51s/it]\u001b[A\n",
            " 77%|███████▋  | 23/30 [01:24<00:23,  3.35s/it]\u001b[A\n",
            " 80%|████████  | 24/30 [01:27<00:18,  3.14s/it]\u001b[A\n",
            " 83%|████████▎ | 25/30 [01:30<00:16,  3.29s/it]\u001b[A\n",
            " 87%|████████▋ | 26/30 [01:33<00:12,  3.01s/it]\u001b[A\n",
            " 90%|█████████ | 27/30 [01:36<00:09,  3.26s/it]\u001b[A\n",
            " 93%|█████████▎| 28/30 [01:39<00:05,  2.95s/it]\u001b[A\n",
            " 97%|█████████▋| 29/30 [01:43<00:03,  3.25s/it]\u001b[A\n",
            "100%|██████████| 30/30 [01:45<00:00,  3.53s/it]\n",
            " 67%|██████▋   | 2/3 [03:49<01:53, 113.26s/it]\n",
            "  0%|          | 0/30 [00:00<?, ?it/s]\u001b[A\n",
            "  3%|▎         | 1/30 [00:05<02:27,  5.09s/it]\u001b[A\n",
            "  7%|▋         | 2/30 [00:10<02:34,  5.51s/it]\u001b[A\n",
            " 10%|█         | 3/30 [00:14<02:08,  4.77s/it]\u001b[A\n",
            " 13%|█▎        | 4/30 [00:17<01:38,  3.79s/it]\u001b[A\n",
            " 17%|█▋        | 5/30 [00:21<01:39,  3.98s/it]\u001b[A\n",
            " 20%|██        | 6/30 [00:23<01:22,  3.43s/it]\u001b[A\n",
            " 23%|██▎       | 7/30 [00:26<01:16,  3.34s/it]\u001b[A\n",
            " 27%|██▋       | 8/30 [00:29<01:08,  3.09s/it]\u001b[A\n",
            " 30%|███       | 9/30 [00:33<01:07,  3.24s/it]\u001b[A\n",
            " 33%|███▎      | 10/30 [00:38<01:19,  3.96s/it]\u001b[A\n",
            " 37%|███▋      | 11/30 [00:41<01:10,  3.69s/it]\u001b[A\n",
            " 40%|████      | 12/30 [00:43<00:56,  3.14s/it]\u001b[A\n",
            " 43%|████▎     | 13/30 [00:45<00:47,  2.82s/it]\u001b[A\n",
            " 47%|████▋     | 14/30 [00:49<00:50,  3.15s/it]\u001b[A\n",
            " 50%|█████     | 15/30 [00:52<00:45,  3.03s/it]\u001b[A\n",
            " 53%|█████▎    | 16/30 [00:54<00:37,  2.68s/it]\u001b[A\n",
            " 57%|█████▋    | 17/30 [00:56<00:33,  2.54s/it]\u001b[A\n",
            " 60%|██████    | 18/30 [00:59<00:31,  2.59s/it]\u001b[A\n",
            " 63%|██████▎   | 19/30 [01:01<00:26,  2.39s/it]\u001b[A\n",
            " 67%|██████▋   | 20/30 [01:03<00:23,  2.38s/it]\u001b[A\n",
            " 70%|███████   | 21/30 [01:07<00:26,  2.91s/it]\u001b[A\n",
            " 73%|███████▎  | 22/30 [01:13<00:31,  3.98s/it]\u001b[A\n",
            " 77%|███████▋  | 23/30 [01:17<00:26,  3.78s/it]\u001b[A\n",
            " 80%|████████  | 24/30 [01:21<00:24,  4.01s/it]\u001b[A\n",
            " 83%|████████▎ | 25/30 [01:24<00:17,  3.54s/it]\u001b[A\n",
            " 87%|████████▋ | 26/30 [01:28<00:15,  3.83s/it]\u001b[A\n",
            " 90%|█████████ | 27/30 [01:33<00:12,  4.23s/it]\u001b[A\n",
            " 93%|█████████▎| 28/30 [01:38<00:08,  4.22s/it]\u001b[A\n",
            " 97%|█████████▋| 29/30 [01:40<00:03,  3.75s/it]\u001b[A\n",
            "100%|██████████| 30/30 [01:44<00:00,  3.47s/it]\n",
            "100%|██████████| 3/3 [05:33<00:00, 111.24s/it]\n"
          ]
        }
      ],
      "source": [
        "### Extract theoretical value from final quantile for each dimension\n",
        "epsilon = 10**(-6) ## can't compute int_0^1 with quantiles as this gives infinite values\n",
        "# epsilon is here the truncation value\n",
        "p = 2\n",
        "NNs = 30\n",
        "precision_integral = 10**6\n",
        "quantile_vector = np.arange(0.01,1,1/precision_integral)\n",
        "quantile_theoretical = []\n",
        "for i in tqdm(range(3)):\n",
        "  quantile_theoretical.append(np.zeros((NNs, quantile_vector.shape[0])))\n",
        "  for nns in tqdm(range(NNs)):  ## Monte-Carlo repetition\n",
        "        Delta = .1\n",
        "        step_0 = int(Delta/h)\n",
        "        ## Change the second line below to access data stored somewhere.\n",
        "        path = \"Neural_mass_particle_num_\"+str(N_vec[-1])+\"repeat_\"+str(nns)+\"M_\"+str(M)+\".csv\"\n",
        "        density_limit = np.array(pd.read_csv(\"Results_Neural_v4/\"+path, sep=',',header=None))[:,i]\n",
        "        quantile_theoretical[i][nns,:]= np.quantile(density_limit, quantile_vector)\n",
        "        ## We have NNs simulations with 2^7 particles for instance. Here we upload the last iteration (result at time T).\n",
        "        ## Let us estimate the Wasserstein distance with respect to the true distribution."
      ]
    },
    {
      "cell_type": "code",
      "execution_count": null,
      "metadata": {
        "colab": {
          "background_save": true,
          "base_uri": "https://localhost:8080/"
        },
        "id": "PpgXKJ5IvufM",
        "outputId": "b65dbec3-ca61-46b7-9617-44dd82ec59ad"
      },
      "outputs": [
        {
          "name": "stderr",
          "output_type": "stream",
          "text": [
            "100%|██████████| 10/10 [11:30<00:00, 69.00s/it] \n"
          ]
        }
      ],
      "source": [
        "epsilon = 10**(-6) ## can't compute int_0^1 with quantiles as this gives infinite values\n",
        "# epsilon is the truncation value\n",
        "p = 2\n",
        "NNs = 30\n",
        "precision_integral = 10**6\n",
        "quantile_vector = np.arange(0.01,1,1/precision_integral)\n",
        "error_basic = np.zeros((pn, 3, NNs, M))\n",
        "max_error = np.zeros((pn, NNs))\n",
        "error_final = np.zeros((pn,3))\n",
        "for i in tqdm(range(pn)):   ## particle number\n",
        "  for j in range(3):\n",
        "    for nns in range(NNs):  ## Monte-Carlo repetition\n",
        "        #print(\"N = \"+str(N_vec[i])+\", M = \"+str(M))\n",
        "        ## Change the second line below to access data stored somewhere else.\n",
        "        path = \"Neural_mass_particle_num_\"+str(N_vec[i])+\"repeat_\"+str(nns)+\"M_\"+str(M)+\".csv\"\n",
        "        density_particle= np.array(pd.read_csv(\"Results_Neural_v4/\"+path, sep=',',header=None))[:,j]\n",
        "        ## We have NNs simulations with 2^7 particles for instance. Here we upload the last iteration (result at time T).\n",
        "        ## Let us estimate the Wasserstein distance with respect to the true distribution.\n",
        "        quantile_method = np.quantile(density_particle, quantile_vector)\n",
        "        error_basic[i, j, nns] = estim_Wp(quantile_method, quantile_theoretical[j][nns,:], epsilon, p)\n",
        "    ### Computing the finate global error\n",
        "    error_final[i,j] = np.mean(error_basic[i,j,:]**p)"
      ]
    },
    {
      "cell_type": "code",
      "execution_count": null,
      "metadata": {
        "colab": {
          "base_uri": "https://localhost:8080/",
          "height": 595
        },
        "id": "bhZ9orpyzwVi",
        "outputId": "a36fed41-f272-4017-893d-f72eb225e74f"
      },
      "outputs": [
        {
          "data": {
            "image/png": "[encoded data removed]",
            "text/plain": [
              "<Figure size 800x600 with 1 Axes>"
            ]
          },
          "metadata": {},
          "output_type": "display_data"
        }
      ],
      "source": [
        "plt.figure(figsize=(8,6))\n",
        "\n",
        "for j, linestyle in enumerate(['-', '--', ':']):\n",
        "    plt.plot(np.log2(N_vec), np.log2(error_final[:, j]), linestyle = linestyle, marker=\"o\", label=f'Coordinate {j+1}')\n",
        "\n",
        "plt.xlabel('log2(N)', fontsize=14) # Adjust fontsize as needed\n",
        "plt.ylabel('log2(Error)', fontsize=14) # Adjust fontsize as needed\n",
        "plt.title('Squared Error for the estimation of the Wasserstein distance vs. N', fontsize=16) # Adjust fontsize as needed\n",
        "plt.legend()\n",
        "plt.grid(True)\n",
        "\n",
        "# Increase tick label size\n",
        "plt.xticks(fontsize=12)\n",
        "plt.yticks(fontsize=12)\n",
        "\n",
        "plt.show()"
      ]
    },
    {
      "cell_type": "code",
      "execution_count": null,
      "metadata": {
        "colab": {
          "base_uri": "https://localhost:8080/"
        },
        "id": "wOK024QJ4JCR",
        "outputId": "5272683d-798f-4f3e-a648-df713d9207f8"
      },
      "outputs": [
        {
          "name": "stdout",
          "output_type": "stream",
          "text": [
            "0\n",
            "The estimate of the slope is [-3.26235916]\n",
            "The estimate of the intercept is 19.909313177149016\n",
            "1\n",
            "The estimate of the slope is [-3.77413156]\n",
            "The estimate of the intercept is 28.823394695775686\n",
            "2\n",
            "The estimate of the slope is [-3.26393886]\n",
            "The estimate of the intercept is 19.62345909810263\n"
          ]
        }
      ],
      "source": [
        "for j in range(3):\n",
        "  print (j)\n",
        "  X=np.log2(N_vec[:-1]).reshape(-1,1)\n",
        "  y=np.log2(error_final[:-1,j])\n",
        "  reg_Gaussian = LinearRegression().fit(X, y)\n",
        "  print (\"The estimate of the slope is\", reg_Gaussian.coef_)\n",
        "  print (\"The estimate of the intercept is\", reg_Gaussian.intercept_)"
      ]
    },
    {
      "cell_type": "markdown",
      "metadata": {
        "id": "OL_FQmDUol-l"
      },
      "source": [
        "# 5) Estimation by test function <a class=\"anchor\" id=\"chapter5\"></a>\n",
        "\n"
      ]
    },
    {
      "cell_type": "code",
      "execution_count": null,
      "metadata": {
        "colab": {
          "base_uri": "https://localhost:8080/"
        },
        "collapsed": true,
        "id": "ynAcHXQkopzk",
        "outputId": "dc39269e-4874-4759-ec75-7821c868508e"
      },
      "outputs": [
        {
          "name": "stderr",
          "output_type": "stream",
          "text": [
            "100%|██████████| 30/30 [00:03<00:00,  8.82it/s]\n",
            "100%|██████████| 9/9 [00:04<00:00,  1.84it/s]\n"
          ]
        }
      ],
      "source": [
        "p = 2\n",
        "NNs = 30\n",
        "T  = 1\n",
        "h = T/M\n",
        "\n",
        "def phi_1(x):\n",
        "  norm = np.linalg.norm(x, axis=1)\n",
        "  mask = norm < 1\n",
        "  y = np.zeros(len(norm))\n",
        "  y[mask] = norm[mask]\n",
        "  return(np.exp(-(1/(1+y**2))))\n",
        "\n",
        "def phi_2(x):\n",
        "  return(np.exp(-(np.linalg.norm(x, axis=1))**2 / 2))\n",
        "\n",
        "def phi_3(x):\n",
        "  norm = np.linalg.norm(x, axis=1)\n",
        "  return(1/(1+np.exp(-norm)))\n",
        "\n",
        "\n",
        "\n",
        "error_max = np.zeros((3,NNs))\n",
        "\n",
        "\n",
        "\n",
        "### Compute error at larger particle number\n",
        "\n",
        "for nns in tqdm(range(NNs)):  ## Monte-Carlo repetition\n",
        "      ## Change the second line below to access data stored somewhere else.\n",
        "      path = \"Neural_mass_particle_num_\"+str(N_vec[-1])+\"repeat_\"+str(nns)+\"M_\"+str(M)+\".csv\"\n",
        "      density_particle= np.array(pd.read_csv(\"Results_Neural_v4/\"+path, sep=',',header=None))\n",
        "      error_max[0,nns] = np.mean(phi_1(density_particle))\n",
        "      error_max[1,nns] = np.mean(phi_2(density_particle))\n",
        "      error_max[2,nns] = np.mean(phi_3(density_particle))\n",
        "\n",
        "\n",
        "\n",
        "error_basic = np.zeros((3, pn-1, NNs))\n",
        "error_final = np.zeros((3,pn-1))\n",
        "for j in tqdm(range(7, 7+pn-1)):   ## particle number\n",
        "    i = j-7\n",
        "    for nns in range(NNs):  ## Monte-Carlo repetition\n",
        "        #print(\"N = \"+str(N_vec[i])+\", M = \"+str(M))\n",
        "        ## Change the second line below to access data stored somewhere else.\n",
        "        path = \"Neural_mass_particle_num_\"+str(N_vec[i])+\"repeat_\"+str(nns)+\"M_\"+str(M)+\".csv\"\n",
        "        density_particle= np.array(pd.read_csv(\"Results_Neural_v4/\"+path, sep=',',header=None))\n",
        "        error_basic[0, i, nns] = np.mean(phi_1(density_particle))\n",
        "        error_basic[1, i, nns] = np.mean(phi_2(density_particle))\n",
        "        error_basic[2, i, nns] = np.mean(phi_3(density_particle))\n",
        "    error_final[0,i] = 8*np.mean(np.abs(error_basic[0,i,:] - error_max[0,:]))\n",
        "    error_final[1,i] = 8*np.mean(np.abs(error_basic[1,i,:] - error_max[1,:]))\n",
        "    error_final[2,i] = 8*np.mean(np.abs(error_basic[2,i,:] - error_max[2,:]))\n",
        "        ## We have NNs simulations with 2^7 particles for instance. Here we upload the last iteration (result at time T).\n",
        "        ## Let us estimate the Wasserstein distance with respect to the true distribution.\n",
        "        #quantile_method = np.quantile(density_particle, quantile_vector)\n",
        "        #\n",
        "\n",
        "    ### Computing the finate global error\n"
      ]
    },
    {
      "cell_type": "code",
      "execution_count": null,
      "metadata": {
        "colab": {
          "base_uri": "https://localhost:8080/",
          "height": 595
        },
        "id": "1mKSh0dRo1qe",
        "outputId": "6eaa0285-6c7a-41ca-b357-5e2a7b1354f8"
      },
      "outputs": [
        {
          "data": {
            "image/png": "[encoded data removed]",
            "text/plain": [
              "<Figure size 800x600 with 1 Axes>"
            ]
          },
          "metadata": {},
          "output_type": "display_data"
        }
      ],
      "source": [
        "plt.figure(figsize=(8,6))\n",
        "\n",
        "for j, linestyle in enumerate(['-', '--', ':']):\n",
        "    plt.plot(np.log2(N_vec[:-1]), np.log2(error_final[j,:]), linestyle = linestyle, marker=\"o\", label=f'Phi_{j+1}')\n",
        "\n",
        "plt.xlabel('log2(N)', fontsize=14) # Adjust fontsize as needed\n",
        "plt.ylabel('log2(Error)', fontsize=14) # Adjust fontsize as needed\n",
        "plt.title('Squared Error measured by test functions vs. N', fontsize=16) # Adjust fontsize as needed\n",
        "plt.legend()\n",
        "plt.grid(True)\n",
        "\n",
        "# Increase tick label size\n",
        "plt.xticks(fontsize=12)\n",
        "plt.yticks(fontsize=12)\n",
        "\n",
        "plt.show()"
      ]
    },
    {
      "cell_type": "code",
      "execution_count": null,
      "metadata": {
        "colab": {
          "base_uri": "https://localhost:8080/"
        },
        "id": "r83c5zCio6Vi",
        "outputId": "45b06de8-2ea8-4bb6-96ab-326fb722bce9"
      },
      "outputs": [
        {
          "name": "stdout",
          "output_type": "stream",
          "text": [
            "0\n",
            "The estimate of the slope is [-0.93158647]\n",
            "The estimate of the intercept is 5.380497296259334\n",
            "1\n",
            "The estimate of the slope is [-1.09782248]\n",
            "The estimate of the intercept is 9.364838698367075\n",
            "2\n",
            "The estimate of the slope is [-1.1041924]\n",
            "The estimate of the intercept is 7.908672664790812\n"
          ]
        }
      ],
      "source": [
        "for j in range(3):\n",
        "  print (j)\n",
        "  X=np.log2(N_vec[:-1]).reshape(-1,1)\n",
        "  y=np.log2(error_final[j,:])\n",
        "  reg_Gaussian = LinearRegression().fit(X, y)\n",
        "  print (\"The estimate of the slope is\", reg_Gaussian.coef_)\n",
        "  print (\"The estimate of the intercept is\", reg_Gaussian.intercept_)"
      ]
    }
  ],
  "metadata": {
    "colab": {
      "provenance": []
    },
    "kernelspec": {
      "display_name": "Python 3 (ipykernel)",
      "language": "python",
      "name": "python3"
    },
    "language_info": {
      "codemirror_mode": {
        "name": "ipython",
        "version": 3
      },
      "file_extension": ".py",
      "mimetype": "text/x-python",
      "name": "python",
      "nbconvert_exporter": "python",
      "pygments_lexer": "ipython3",
      "version": "3.9.12"
    }
  },
  "nbformat": 4,
  "nbformat_minor": 0
}