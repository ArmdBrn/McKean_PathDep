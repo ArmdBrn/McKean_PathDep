{
  "cells": [
    {
      "cell_type": "markdown",
      "metadata": {
        "id": "0ozvnExGZpfh"
      },
      "source": [
        "# Density simulation of a path-dependent McKean-Vlasov SDE with linear interaction\n",
        "\n",
        "\n",
        "> This notebook implements the simulations described in Section 2.1.1 of\n",
        "  - [1] Bernou, A. and Liu, Y. (2024). Particle method for numerical simulation of the path-dependent McKean-Vlasov equation\n",
        "\n",
        "-------------------------------\n",
        "\n",
        "**Contents**\n",
        "\n",
        "* [1. Definition of the McKean-Vlasov equation, the particle system and the Euler scheme](#chapter1)\n",
        "\n",
        "* [2. Application: Simulation with fixed M](#chapter2)\n",
        "\n",
        "* [3. Application: Simulation with M depending on N](#chapter3)\n",
        "\n",
        "\n",
        "\n",
        "\n",
        "-------------------------------"
      ]
    },
    {
      "cell_type": "code",
      "execution_count": null,
      "metadata": {
        "colab": {
          "base_uri": "https://localhost:8080/"
        },
        "id": "z-QB8CBdZpfl",
        "outputId": "69ab43e5-da89-4ab3-fb87-027f77beabba"
      },
      "outputs": [
        {
          "output_type": "stream",
          "name": "stdout",
          "text": [
            "Mounted at /content/drive\n"
          ]
        }
      ],
      "source": [
        "import numpy as np\n",
        "import matplotlib.pyplot as plt\n",
        "from tqdm import tqdm\n",
        "import random\n",
        "from joblib import Parallel, delayed\n",
        "import time\n",
        "import shutil\n",
        "from functools import partialmethod\n",
        "from scipy import special\n",
        "\n",
        "import pandas as pd\n",
        "from scipy.stats import norm\n",
        "from sklearn.linear_model import LinearRegression\n",
        "\n",
        "from scipy.stats import wasserstein_distance\n",
        "import numpy as np\n",
        "from google.colab import drive\n",
        "drive.mount('/content/drive')"
      ]
    },
    {
      "cell_type": "markdown",
      "metadata": {
        "id": "2FW2Qj0ZZpfm"
      },
      "source": [
        "## I. Definition of the McKean-Vlasov equation, the particle system and the Euler scheme <a class=\"anchor\" id=\"chapter1\"></a>\n"
      ]
    },
    {
      "cell_type": "markdown",
      "metadata": {
        "id": "C1CLVQUyZpfm"
      },
      "source": [
        "We consider a stochastic process $(X_t)_{t\\in[0, T]}$ defined by the following McKean-Vlasov SDE with linear interaction\n",
        "\n",
        "$$dX_t = - 2 \\int_0^t  \\int_{\\mathbb{R}}(X_t-x)\\mu_s(dx) \\, ds \\, dt+dB_t\\quad \\text{with}\\quad X_0\\sim \\mathcal{N}(0,1),\\hspace{2cm}(1)$$\n",
        "\n",
        "where for every  $t\\in[0,T]$, $\\mu_t$ denotes the probability distribution of $X_t$.  This process $(X_t)_{t\\in[0, T]}$ is a time-dependent Ornstein-Uhlenbeck process, namely, for every $t\\in[0,T], \\; \\mu_t=\\mathcal{N}\\big(0, e^{-2t^2}(1 + \\int_0^t e^{2 r^2} \\, dr) \\big)$ (see [1, Proposition 2.1])."
      ]
    },
    {
      "cell_type": "markdown",
      "metadata": {
        "id": "0Oh_-xa2Zpfm"
      },
      "source": [
        "Let $N$ be the number of particles. The $N$-particle system $(X_t^{1}, ..., X_t^{N})_{t\\in[0,T]}$ corresponding to (1) is defined as follows :\n",
        "\n",
        "\n",
        "\\begin{equation}\n",
        "dX_t^{n}=- 2 \\int_0^t \\frac{1}{N} \\sum_{i=1}^{N}\\big(X_t^{n}-X_s^{i}\\big) ds \\, dt+ B_t^{n}.\\hspace{2cm}(2),\n",
        "\\end{equation}\n",
        "where, for all $n \\in \\{1,\\dots,N\\}$, $(B^n_t)_{t \\ge 0}$ is a standard Brownian motion."
      ]
    },
    {
      "cell_type": "markdown",
      "metadata": {
        "id": "KUeVgs7RZpfn"
      },
      "source": [
        "Let $M$ denote the time discretization number for the Euler scheme. Set $h=\\frac{T}{M}$ and $t_m=m\\cdot h, 0\\leq m\\leq M$. Combining the particle system (2) and the Euler scheme, we obtain the following discrete particle system (see also [1, Definition 1.4] and [1, equation (1.11)]: for $1 \\le n \\le N$,\n",
        "\n",
        "\\begin{equation}\n",
        "X^n_{t_1} = X^n_0 +  \\sqrt{h} Z^n_1\n",
        "\\end{equation}\n",
        "and for $1 \\le m \\le M-1$,\n",
        "\\begin{align}\n",
        "X^n_{t_{m+1}} &= X^n_{t_m} + \\frac{h^2}{N} \\sum_{j=1}^N \\Big( \\frac{X^j_{t_0}}{2} + \\frac{X^j_{t_m}}{2} + \\sum_{k=1}^{m-1} X^j_{t_k} \\Big) - h \\, t_m \\, X^n_{t_m} + \\sqrt{h} Z^n_{m+1},\n",
        "\\end{align}\n",
        "where $ \\: Z_{m+1}^{n}:=\\frac{1}{\\sqrt{h}}(B^n_{t_{m+1}}-B^n_{t_{m}})$ are i.i.d random variables having the standard normal distribution $\\mathcal{N}(0,1)$."
      ]
    },
    {
      "cell_type": "markdown",
      "metadata": {
        "id": "aTJ0dTcoZpfo"
      },
      "source": [
        "In the next cell, the function `Euler_one_step` defines the operator of the Euler scheme for one time step."
      ]
    },
    {
      "cell_type": "code",
      "execution_count": null,
      "metadata": {
        "id": "jiNdIVvNZpfq"
      },
      "outputs": [],
      "source": [
        "def Euler_first_step(X_in, N_in, h):\n",
        "    nn=np.ones(N_in)/N_in\n",
        "    t_1 = h\n",
        "    EXin=np.matmul(nn, X_in[:,0])\n",
        "    X_in[:, 1] = X_in[:,0] + np.sqrt(h)*np.random.normal(0, 1, N_in)\n",
        "    return X_in[:,1]\n",
        "\n",
        "def Euler_one_step(step_in,X_in,N_in, h):\n",
        "    nn=np.ones(N_in)/N_in\n",
        "    t_in = step_in*h\n",
        "    EXin=np.matmul(np.transpose(X_in), nn)\n",
        "    X_out=(1-2*h*t_in)*X_in[:, step_in]+ (h**2)*(EXin[0] + EXin[step_in]) + 2*(h**2)*(np.sum(EXin[1:step_in-1])) +np.sqrt(h)*np.random.normal(0, 1, N_in)\n",
        "    return X_out"
      ]
    },
    {
      "cell_type": "markdown",
      "metadata": {
        "id": "4Brd5gFGda8-"
      },
      "source": [
        "# II/ Application: Simulation with fixed $M$. <a class=\"anchor\" id=\"chapter2\"></a>\n",
        "The code of this section is the one used to generate [1, Figure 1].\n",
        "\n",
        "By default, this section is set with parameter $M=2000$.\n",
        "\n",
        "Modifying the parameters with $M = 100$, $pn = 11$ and $base = 9$ below, this code can also generate [1, Figure 3].\n",
        "\n",
        "## 1) Simulation of the particle system"
      ]
    },
    {
      "cell_type": "code",
      "execution_count": 1,
      "metadata": {
        "colab": {
          "base_uri": "https://localhost:8080/",
          "height": 231
        },
        "id": "z2KDQICwdzxh",
        "outputId": "97241a81-b85d-4987-f0a1-d34cee164b51"
      },
      "outputs": [
        {
          "output_type": "error",
          "ename": "NameError",
          "evalue": "name 'np' is not defined",
          "traceback": [
            "\u001b[0;31m---------------------------------------------------------------------------\u001b[0m",
            "\u001b[0;31mNameError\u001b[0m                                 Traceback (most recent call last)",
            "\u001b[0;32m<ipython-input-1-17dffb471bbb>\u001b[0m in \u001b[0;36m<cell line: 8>\u001b[0;34m()\u001b[0m\n\u001b[1;32m      6\u001b[0m \u001b[0mpn\u001b[0m \u001b[0;34m=\u001b[0m \u001b[0;36m9\u001b[0m\u001b[0;34m\u001b[0m\u001b[0;34m\u001b[0m\u001b[0m\n\u001b[1;32m      7\u001b[0m \u001b[0mbase\u001b[0m \u001b[0;34m=\u001b[0m \u001b[0;36m7\u001b[0m\u001b[0;34m\u001b[0m\u001b[0;34m\u001b[0m\u001b[0m\n\u001b[0;32m----> 8\u001b[0;31m \u001b[0mN_power\u001b[0m\u001b[0;34m=\u001b[0m\u001b[0mnp\u001b[0m\u001b[0;34m.\u001b[0m\u001b[0mlinspace\u001b[0m\u001b[0;34m(\u001b[0m\u001b[0mbase\u001b[0m\u001b[0;34m,\u001b[0m\u001b[0mbase\u001b[0m\u001b[0;34m+\u001b[0m\u001b[0mpn\u001b[0m\u001b[0;34m-\u001b[0m\u001b[0;36m1\u001b[0m\u001b[0;34m,\u001b[0m\u001b[0mpn\u001b[0m\u001b[0;34m)\u001b[0m\u001b[0;34m\u001b[0m\u001b[0;34m\u001b[0m\u001b[0m\n\u001b[0m\u001b[1;32m      9\u001b[0m \u001b[0mN_vec\u001b[0m\u001b[0;34m=\u001b[0m\u001b[0;36m2\u001b[0m\u001b[0;34m**\u001b[0m\u001b[0mN_power\u001b[0m\u001b[0;34m.\u001b[0m\u001b[0mastype\u001b[0m\u001b[0;34m(\u001b[0m\u001b[0mint\u001b[0m\u001b[0;34m)\u001b[0m\u001b[0;34m\u001b[0m\u001b[0;34m\u001b[0m\u001b[0m\n\u001b[1;32m     10\u001b[0m \u001b[0mprint\u001b[0m\u001b[0;34m(\u001b[0m\u001b[0;34m\"M=\"\u001b[0m\u001b[0;34m,\u001b[0m \u001b[0mM\u001b[0m\u001b[0;34m)\u001b[0m\u001b[0;34m\u001b[0m\u001b[0;34m\u001b[0m\u001b[0m\n",
            "\u001b[0;31mNameError\u001b[0m: name 'np' is not defined"
          ]
        }
      ],
      "source": [
        "## Parameters\n",
        "T=1.\n",
        "M=2000  # Time discretization number, adapted in the next sections.\n",
        "h=T/M  # Time step\n",
        "m_X0=0\n",
        "pn = 9\n",
        "base = 7\n",
        "N_power=np.linspace(base,base+pn-1,pn)\n",
        "N_vec=2**N_power.astype(int)\n",
        "print(\"M=\", M)\n",
        "print(\"Vector of the number of particles\", N_vec)"
      ]
    },
    {
      "cell_type": "markdown",
      "metadata": {
        "id": "17b_dwA1Zpfs"
      },
      "source": [
        "First, we compute and save the particle systems at time T=1 with different particle numbers in `N_vec`. For each given particle number, we implement 30 identical and independent simulations."
      ]
    },
    {
      "cell_type": "code",
      "execution_count": 2,
      "metadata": {
        "id": "lejB8-ScTLYl"
      },
      "outputs": [],
      "source": [
        "def one_sim(particle_num, repeat, M, h):\n",
        "  particle_process=np.zeros((particle_num,M+1))\n",
        "  particle_process[:,0]=np.random.normal(m_X0, 1, particle_num)\n",
        "  particle_process[:,1]=Euler_first_step(particle_process,particle_num, h)\n",
        "\n",
        "  for m in range(1,M):\n",
        "    particle_process[:,m+1]=Euler_one_step(m, particle_process,particle_num,h)\n",
        "  path = \"particle_num_\"+str(particle_num)+\"repeat\"+str(repeat)+\"step\"+str(M)+\".csv\"\n",
        "  np.savetxt(path, particle_process[:,M], delimiter=\",\")\n",
        "  ## COMPLETE IN THE SECOND LINE INFORMATION ABOUT THE PATH TO SAVE THE DATA\n",
        "  source_path = path\n",
        "  destination_path = 'Results_OU_M2000/'+path\n",
        "  shutil.move(source_path, destination_path)\n"
      ]
    },
    {
      "cell_type": "code",
      "execution_count": null,
      "metadata": {
        "colab": {
          "base_uri": "https://localhost:8080/"
        },
        "id": "OkX72hN9T6pZ",
        "outputId": "d7332f15-28e3-4cf8-875a-b1d03b15ba94"
      },
      "outputs": [
        {
          "output_type": "stream",
          "name": "stdout",
          "text": [
            "Step0, M = 100, N = 1048576\n"
          ]
        },
        {
          "output_type": "stream",
          "name": "stderr",
          "text": [
            "100%|██████████| 30/30 [07:33<00:00, 15.13s/it]\n"
          ]
        },
        {
          "output_type": "stream",
          "name": "stdout",
          "text": [
            "Step1, M = 100, N = 2097152\n"
          ]
        },
        {
          "output_type": "stream",
          "name": "stderr",
          "text": [
            "100%|██████████| 30/30 [15:20<00:00, 30.68s/it]\n"
          ]
        },
        {
          "output_type": "stream",
          "name": "stdout",
          "text": [
            "1747.2473740577698\n"
          ]
        }
      ],
      "source": [
        "# Parallel simulation to run the Monte-Carlo iterations.\n",
        "\n",
        "## Please check the destination_path in the cell above before running this cell\n",
        "NNs = 30\n",
        "\n",
        "start = time.time()\n",
        "for i in range(pn):\n",
        "      print(\"Step\"+str(i)+\", M = \"+str(M)+\", N = \"+str(N_vec[i]))\n",
        "      Parallel(n_jobs = 4)(delayed(one_sim)(N_vec[i], j, M, h) for j in tqdm(range(NNs)))\n",
        "end = time.time()\n",
        "print(end-start)\n"
      ]
    },
    {
      "cell_type": "markdown",
      "metadata": {
        "id": "1pn9_w5kZpft"
      },
      "source": [
        "The following cell defines the true density function of $X_T$, which is the law $\\mathcal{N}(0, e^{-2} (1 + \\int_0^1 e^{2r^2} \\, dr))$, see [1, Proposition 2.1]. We note that this last variance is $e^{-2} (1 + \\tfrac 12 \\sqrt{\\frac{\\pi}{2}} \\hbox{erfi}(\\sqrt{2}))$ which is approximately equal to $0.45532932051932784$."
      ]
    },
    {
      "cell_type": "code",
      "execution_count": null,
      "metadata": {
        "id": "rWP9jXkAZpfu"
      },
      "outputs": [],
      "source": [
        "# Definition of the true density function\n",
        "\n",
        "pi = 3.14159265359\n",
        "var_approx = np.exp(-2)*(1 + 0.5 * np.sqrt(pi/2)*special.erfi(np.sqrt(2)) )"
      ]
    },
    {
      "cell_type": "markdown",
      "metadata": {
        "id": "DKcFHYRjOCSC"
      },
      "source": [
        "## 2) Estimation of the Wasserstein distance\n",
        "\n",
        "In the next cells, we compute an empirical Wasserstein distance, using\n",
        "$$ \\mathcal{W}_2(\\mu,\\nu)^2 = \\int_0^1 \\Big|F_\\mu^{-1}(q) - F_\\nu^{-1}(q) \\Big|^2 \\, d q. $$\n",
        "We start by computing the vector of theoretical quantiles for the target distribution in the next cell. Since we cannot compute the full integral with quantiles over $[0,1]$  as this gives infinite values, we use a truncation parameter epsilon."
      ]
    },
    {
      "cell_type": "code",
      "execution_count": null,
      "metadata": {
        "id": "GdZ2voS5d219"
      },
      "outputs": [],
      "source": [
        "def estim_Wp(a,b, epsilon,p): ## takes two vectors of values and compute the estimated integral.\n",
        "    n = len(a) # Since epsilon=precision_integral below, 1/n = epsilon.\n",
        "    res = ((1-2*epsilon)/n)*(((a[0] - b[0])**p + (a[-1]+b[-1])**p)/2 + np.sum((a[1:-1] - b[1:-1])**p))\n",
        "    return(res)"
      ]
    },
    {
      "cell_type": "code",
      "execution_count": null,
      "metadata": {
        "colab": {
          "base_uri": "https://localhost:8080/"
        },
        "id": "6Rlg8hZRPsEU",
        "outputId": "11ae7c03-8957-4c72-f8db-8bb8a7059000"
      },
      "outputs": [
        {
          "output_type": "stream",
          "name": "stderr",
          "text": [
            "100%|██████████| 9/9 [03:39<00:00, 24.39s/it]\n"
          ]
        }
      ],
      "source": [
        "epsilon = 10**(-6) ##\n",
        "p = 2\n",
        "NNs = 30\n",
        "precision_integral = 10**6 ## This parameter is used for the integral discretization\n",
        "quantile_vector = np.arange(0.01,1,1/precision_integral)\n",
        "quantile_theoretical = norm.ppf(quantile_vector, 0, np.sqrt(var_approx))\n",
        "error_basic = np.zeros((pn, NNs))\n",
        "max_error = np.zeros((pn, NNs))\n",
        "error_final = np.zeros(pn)\n",
        "for i in tqdm(range(pn)):   ## particle number\n",
        "    for nns in range(NNs):  ## Monte-Carlo repetition\n",
        "        ## CHANGE THE SECOND LINE below to access data stored somewhere else.\n",
        "        path = \"particle_num_\"+str(N_vec[i])+\"repeat\"+str(nns)+\"step\"+str(M)+\".csv\"\n",
        "        density_particle= np.array(pd.read_csv(\"Results_OU_M2000/\"+path, sep=',',header=None))\n",
        "\n",
        "        ## Estimation of the Wasserstein distance with respect to the true distribution.\n",
        "        quantile_method = np.quantile(density_particle, quantile_vector)\n",
        "        error_basic[i, nns] = estim_Wp(quantile_method, quantile_theoretical, epsilon, p)\n",
        "\n",
        "    ### Computing the finate global error\n",
        "    error_final[i] = np.mean(error_basic[i,:]**p)\n",
        "\n",
        "\n",
        "\n",
        "\n",
        "\n",
        "\n"
      ]
    },
    {
      "cell_type": "code",
      "source": [
        "path = \"error_final_M2000.csv\"\n",
        "np.savetxt(path, error_final, delimiter=\",\")"
      ],
      "metadata": {
        "id": "Fe3riFD1OwRe"
      },
      "execution_count": null,
      "outputs": []
    },
    {
      "cell_type": "markdown",
      "metadata": {
        "id": "FcShNqSFZpfw"
      },
      "source": [
        "---------------------------------------\n",
        "\n",
        "The next cell shows the log-log error curve of the density simulation with the Gaussian kernel."
      ]
    },
    {
      "cell_type": "code",
      "execution_count": null,
      "metadata": {
        "colab": {
          "base_uri": "https://localhost:8080/",
          "height": 595
        },
        "id": "bjNF8OO2Zpfw",
        "outputId": "bc250931-8cd5-4bd8-a0ed-a0bfd04fcf18"
      },
      "outputs": [
        {
          "output_type": "display_data",
          "data": {
            "text/plain": [
              "<Figure size 800x600 with 1 Axes>"
            ],
            "image/png": "[encoded data removed]"
          },
          "metadata": {}
        }
      ],
      "source": [
        "plt.figure(figsize=(8,6))\n",
        "plt.plot(np.log2(N_vec),np.log2(np.sqrt(error_final)), color = \"blue\", marker = \"o\")\n",
        "\n",
        "plt.xlabel('log2(N)', fontsize=14) # Adjust fontsize as needed\n",
        "plt.ylabel('log2(Error)', fontsize=14) # Adjust fontsize as needed\n",
        "plt.title('Squared Error for the estimation of the Wasserstein distance vs. N', fontsize=16) # Adjust fontsize as needed\n",
        "plt.grid(False)\n",
        "\n",
        "# Increase tick label size\n",
        "plt.xticks(fontsize=12)\n",
        "plt.yticks(fontsize=12)\n",
        "\n",
        "plt.savefig('OUM2000.eps', format='eps')\n",
        "plt.show()"
      ]
    },
    {
      "cell_type": "markdown",
      "metadata": {
        "id": "1sOaywXlZpfw"
      },
      "source": [
        "The least-square estimate of the slope of the above curve is the following."
      ]
    },
    {
      "cell_type": "code",
      "execution_count": null,
      "metadata": {
        "colab": {
          "base_uri": "https://localhost:8080/"
        },
        "id": "u91BRmomZpfx",
        "outputId": "c2a73c76-7068-4a87-d5a8-4eee2151e011"
      },
      "outputs": [
        {
          "output_type": "stream",
          "name": "stdout",
          "text": [
            "The estimate of the slope is [-0.97679421]\n",
            "The estimate of the intercept is 1.4024536459892367\n"
          ]
        }
      ],
      "source": [
        "X=np.log2(N_vec).reshape(-1,1)\n",
        "y=np.log2(np.sqrt(error_final))\n",
        "reg_Gaussian = LinearRegression().fit(X, y)\n",
        "print (\"The estimate of the slope is\", reg_Gaussian.coef_)\n",
        "print (\"The estimate of the intercept is\", reg_Gaussian.intercept_)\n"
      ]
    },
    {
      "cell_type": "markdown",
      "metadata": {
        "id": "Jg4nUS-ANJHy"
      },
      "source": [
        "# III/ Simulation with $M = N^\\alpha$. <a class=\"anchor\" id=\"chapter3\"></a>\n",
        "\n",
        "## 1) Simulation\n",
        "\n",
        "The code of this section is used to generate [1, Figure 2]."
      ]
    },
    {
      "cell_type": "code",
      "execution_count": null,
      "metadata": {
        "colab": {
          "base_uri": "https://localhost:8080/"
        },
        "id": "MvDjCax2NIUv",
        "outputId": "ed1ab24b-bad1-47c6-dca8-67a991b3c445"
      },
      "outputs": [
        {
          "output_type": "stream",
          "name": "stdout",
          "text": [
            "[ 9. 10. 11. 12. 13. 14. 15. 16. 17. 18.]\n",
            "[   512   1024   2048   4096   8192  16384  32768  65536 131072 262144]\n",
            "[ 31.  45.  66.  97. 142. 208. 304. 446. 653. 955.]\n"
          ]
        }
      ],
      "source": [
        "# Parameters\n",
        "\n",
        "T=1.\n",
        "m_X0=0  # Mean of the distribution of X_0\n",
        "pn=10\n",
        "base = 9\n",
        "alpha = .55\n",
        "N_power=np.linspace(base,base+pn-1,pn)\n",
        "print (N_power)\n",
        "N_vec=2**N_power.astype(int) # Number of particles, from 2^7 to 2^15\n",
        "M_vec = np.rint(N_vec**(alpha))\n",
        "print(N_vec)\n",
        "print(M_vec)"
      ]
    },
    {
      "cell_type": "code",
      "execution_count": null,
      "metadata": {
        "colab": {
          "base_uri": "https://localhost:8080/"
        },
        "id": "PwC2gemXN8Wk",
        "outputId": "4e3f0b6b-846e-4bcc-8240-4b520590bbc1"
      },
      "outputs": [
        {
          "name": "stdout",
          "output_type": "stream",
          "text": [
            "Step 0, M = 31, N = 512\n"
          ]
        },
        {
          "name": "stderr",
          "output_type": "stream",
          "text": [
            "100%|██████████| 30/30 [00:00<00:00, 103.88it/s]\n"
          ]
        },
        {
          "name": "stdout",
          "output_type": "stream",
          "text": [
            "Step 1, M = 45, N = 1024\n"
          ]
        },
        {
          "name": "stderr",
          "output_type": "stream",
          "text": [
            "100%|██████████| 30/30 [00:00<00:00, 65.30it/s]\n"
          ]
        },
        {
          "name": "stdout",
          "output_type": "stream",
          "text": [
            "Step 2, M = 66, N = 2048\n"
          ]
        },
        {
          "name": "stderr",
          "output_type": "stream",
          "text": [
            "100%|██████████| 30/30 [00:00<00:00, 69.08it/s]\n"
          ]
        },
        {
          "name": "stdout",
          "output_type": "stream",
          "text": [
            "Step 3, M = 97, N = 4096\n"
          ]
        },
        {
          "name": "stderr",
          "output_type": "stream",
          "text": [
            "100%|██████████| 30/30 [00:00<00:00, 39.03it/s]\n"
          ]
        },
        {
          "name": "stdout",
          "output_type": "stream",
          "text": [
            "Step 4, M = 142, N = 8192\n"
          ]
        },
        {
          "name": "stderr",
          "output_type": "stream",
          "text": [
            "100%|██████████| 30/30 [00:04<00:00,  6.39it/s]\n"
          ]
        },
        {
          "name": "stdout",
          "output_type": "stream",
          "text": [
            "Step 5, M = 208, N = 16384\n"
          ]
        },
        {
          "name": "stderr",
          "output_type": "stream",
          "text": [
            "100%|██████████| 30/30 [00:23<00:00,  1.28it/s]\n"
          ]
        },
        {
          "name": "stdout",
          "output_type": "stream",
          "text": [
            "Step 6, M = 304, N = 32768\n"
          ]
        },
        {
          "name": "stderr",
          "output_type": "stream",
          "text": [
            "100%|██████████| 30/30 [01:17<00:00,  2.58s/it]\n"
          ]
        },
        {
          "name": "stdout",
          "output_type": "stream",
          "text": [
            "Step 7, M = 446, N = 65536\n"
          ]
        },
        {
          "name": "stderr",
          "output_type": "stream",
          "text": [
            "100%|██████████| 30/30 [05:03<00:00, 10.11s/it]\n"
          ]
        },
        {
          "name": "stdout",
          "output_type": "stream",
          "text": [
            "Step 8, M = 653, N = 131072\n"
          ]
        },
        {
          "name": "stderr",
          "output_type": "stream",
          "text": [
            "100%|██████████| 30/30 [18:43<00:00, 37.45s/it]\n"
          ]
        },
        {
          "name": "stdout",
          "output_type": "stream",
          "text": [
            "Step 9, M = 955, N = 262144\n"
          ]
        },
        {
          "name": "stderr",
          "output_type": "stream",
          "text": [
            "100%|██████████| 30/30 [1:08:55<00:00, 137.86s/it]\n"
          ]
        },
        {
          "name": "stdout",
          "output_type": "stream",
          "text": [
            "7183.617924690247\n"
          ]
        }
      ],
      "source": [
        "## Check the destination path in the function one_sim below before executing this cell\n",
        "\n",
        "NNs = 30\n",
        "\n",
        "start = time.time()\n",
        "for i in range(pn):\n",
        "      M = M_vec[i].astype(int)\n",
        "      h = T/M\n",
        "      print(\"Step \"+str(i)+\", M = \"+str(M)+\", N = \"+str(N_vec[i]))\n",
        "      Parallel(n_jobs = 4)(delayed(one_sim)(N_vec[i], j, M, h) for j in tqdm(range(NNs)))\n",
        "end = time.time()\n",
        "print(end-start)\n"
      ]
    },
    {
      "cell_type": "markdown",
      "metadata": {
        "id": "Ex3h90RSsOI8"
      },
      "source": [
        "## 2) Estimation of the Wasserstein distance"
      ]
    },
    {
      "cell_type": "code",
      "execution_count": null,
      "metadata": {
        "colab": {
          "base_uri": "https://localhost:8080/"
        },
        "id": "KTnCd0m3PWIu",
        "outputId": "8eedb011-fd30-48a3-d664-0fb22e24711c"
      },
      "outputs": [
        {
          "output_type": "stream",
          "name": "stderr",
          "text": [
            "100%|██████████| 10/10 [33:20<00:00, 200.03s/it]\n"
          ]
        }
      ],
      "source": [
        "epsilon = 10**(-6) ## can't compute int_0^1 with quantiles as this gives infinite values\n",
        "# epsilon is the truncation value\n",
        "p = 2\n",
        "NNs = 30\n",
        "precision_integral = 10**6\n",
        "quantile_vector = np.arange(0.01,1,1/precision_integral)\n",
        "quantile_theoretical = norm.ppf(quantile_vector, 0, np.sqrt(var_approx))\n",
        "error_basic = np.zeros((pn, NNs))\n",
        "max_error = np.zeros((pn, NNs))\n",
        "error_final = np.zeros(pn)\n",
        "for i in tqdm(range(pn)):   ## particle number\n",
        "    for nns in range(NNs):  ## Monte-Carlo repetition\n",
        "        M = int(M_vec[i])\n",
        "        h = T/M\n",
        "        #print(\"N = \"+str(N_vec[i])+\", M = \"+str(M))\n",
        "        ## Change the second line below to access data stored somewhere else.\n",
        "        path = \"particle_num_\"+str(N_vec[i])+\"repeat\"+str(nns)+\"step\"+str(M)+\".csv\"\n",
        "        density_particle= np.array(pd.read_csv(\"Results_OU_M55/\"+path, sep=',',header=None))\n",
        "        ## We have NNs simulations with 2^7 particles for instance. Here we upload the last iteration (result at time T).\n",
        "        ## Let us estimate the Wasserstein distance with respect to the true distribution.\n",
        "        quantile_method = np.quantile(density_particle, quantile_vector)\n",
        "        error_basic[i, nns] = estim_Wp(quantile_method, quantile_theoretical, epsilon, p)\n",
        "\n",
        "    ### Computing the finate global error\n",
        "    error_final[i] = np.mean(error_basic[i,:]**p)"
      ]
    },
    {
      "cell_type": "code",
      "source": [
        "path = \"Results_OU_M55/error_final.csv\"\n",
        "np.savetxt(path, error_final, delimiter=\",\")"
      ],
      "metadata": {
        "id": "uGCNLBJob0A3"
      },
      "execution_count": null,
      "outputs": []
    },
    {
      "cell_type": "code",
      "execution_count": null,
      "metadata": {
        "colab": {
          "base_uri": "https://localhost:8080/",
          "height": 595
        },
        "id": "zZNjyvWOuKS7",
        "outputId": "73361a31-7198-45bb-cda0-ef21d6ffef3b"
      },
      "outputs": [
        {
          "output_type": "display_data",
          "data": {
            "text/plain": [
              "<Figure size 800x600 with 1 Axes>"
            ],
            "image/png": "[encoded data removed]"
          },
          "metadata": {}
        }
      ],
      "source": [
        "plt.figure(figsize=(8,6))\n",
        "plt.plot(np.log2(N_vec),np.log2(np.sqrt(error_final)), color = \"blue\", marker = \"o\")\n",
        "\n",
        "plt.xlabel('log2(N)', fontsize=14) # Adjust fontsize as needed\n",
        "plt.ylabel('log2(Error)', fontsize=14) # Adjust fontsize as needed\n",
        "plt.title('Squared Error for the estimation of the Wasserstein distance vs. N', fontsize=16) # Adjust fontsize as needed\n",
        "plt.grid(False)\n",
        "\n",
        "# Increase tick label size\n",
        "plt.xticks(fontsize=12)\n",
        "plt.yticks(fontsize=12)\n",
        "plt.savefig('OUM55.eps', format='eps')\n",
        "\n",
        "plt.show()"
      ]
    },
    {
      "cell_type": "code",
      "execution_count": null,
      "metadata": {
        "colab": {
          "base_uri": "https://localhost:8080/"
        },
        "id": "ouS41cE56pQT",
        "outputId": "bc2e9b5d-c975-4306-beaf-65a691ea208c"
      },
      "outputs": [
        {
          "output_type": "stream",
          "name": "stdout",
          "text": [
            "The estimate of the slope is [-0.90071001]\n",
            "The estimate of the intercept is 0.5277505853773494\n"
          ]
        }
      ],
      "source": [
        "X=np.log2(N_vec).reshape(-1,1)\n",
        "y=np.log2(np.sqrt(error_final))\n",
        "reg_Gaussian = LinearRegression().fit(X, y)\n",
        "print (\"The estimate of the slope is\", reg_Gaussian.coef_)\n",
        "print (\"The estimate of the intercept is\", reg_Gaussian.intercept_)"
      ]
    }
  ],
  "metadata": {
    "colab": {
      "provenance": []
    },
    "kernelspec": {
      "display_name": "Python 3 (ipykernel)",
      "language": "python",
      "name": "python3"
    },
    "language_info": {
      "codemirror_mode": {
        "name": "ipython",
        "version": 3
      },
      "file_extension": ".py",
      "mimetype": "text/x-python",
      "name": "python",
      "nbconvert_exporter": "python",
      "pygments_lexer": "ipython3",
      "version": "3.9.12"
    }
  },
  "nbformat": 4,
  "nbformat_minor": 0
}